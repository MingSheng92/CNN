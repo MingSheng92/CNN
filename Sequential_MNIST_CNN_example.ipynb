{
  "nbformat": 4,
  "nbformat_minor": 0,
  "metadata": {
    "colab": {
      "name": "Sequential MNIST CNN example",
      "provenance": [],
      "include_colab_link": true
    },
    "kernelspec": {
      "name": "python3",
      "display_name": "Python 3"
    },
    "accelerator": "GPU"
  },
  "cells": [
    {
      "cell_type": "markdown",
      "metadata": {
        "id": "view-in-github",
        "colab_type": "text"
      },
      "source": [
        "<a href=\"https://colab.research.google.com/github/MingSheng92/CNN/blob/master/Sequential_MNIST_CNN_example.ipynb\" target=\"_parent\"><img src=\"https://colab.research.google.com/assets/colab-badge.svg\" alt=\"Open In Colab\"/></a>"
      ]
    },
    {
      "cell_type": "markdown",
      "metadata": {
        "id": "gpIAaX9uVQ82",
        "colab_type": "text"
      },
      "source": [
        "## Sequential Convolutional Neural Network (CNN)\n",
        "\n",
        "Below is the example to load and run CNN on MNIST dataset.\n",
        "\n",
        "The notebook is written and tested on <a href=\"https://colab.research.google.com/\">Google colab</a>.\n",
        "\n",
        "First we will load the source/package from github to our session with the use of <b>!git clone</b>\n"
      ]
    },
    {
      "cell_type": "code",
      "metadata": {
        "id": "2OoNnYOSICwY",
        "colab_type": "code",
        "colab": {
          "base_uri": "https://localhost:8080/",
          "height": 34
        },
        "outputId": "473af8da-b606-4021-8bc8-cb1fead18249"
      },
      "source": [
        "!git clone https://github.com/MingSheng92/CNN.git"
      ],
      "execution_count": 15,
      "outputs": [
        {
          "output_type": "stream",
          "text": [
            "fatal: destination path 'CNN' already exists and is not an empty directory.\n"
          ],
          "name": "stdout"
        }
      ]
    },
    {
      "cell_type": "markdown",
      "metadata": {
        "id": "hay1KGKdW3Xe",
        "colab_type": "text"
      },
      "source": [
        "## Import scripts \n",
        "\n",
        "Once the package is loaded, we will proceed to load the scripts that we will be using for image classification.\n",
        "\n",
        "First we will load the scripts with jupyter magic function <b>%load</b>, and we will be able to use the code as usual as shown below."
      ]
    },
    {
      "cell_type": "code",
      "metadata": {
        "id": "2hXWD5XHIKqK",
        "colab_type": "code",
        "colab": {}
      },
      "source": [
        "%load /content/CNN/scripts/ConvNeuralNetwork.py\n",
        "%load /content/CNN/scripts/Functional_CNN.py\n",
        "%load /content/CNN/scripts/Sequential_CNN.py\n",
        "%load /content/CNN/scripts/preprocess.py\n",
        "%load /content/CNN/scripts/PCA.py\n",
        "%load /content/CNN/scripts/utility.py\n",
        "\n",
        "from CNN.scripts.preprocess import load_data, normalize, one_hot\n",
        "from CNN.scripts.Sequential_CNN import CNN\n",
        "from CNN.scripts.PCA import PCA\n",
        "from CNN.scripts.utility import plot_predictions\n",
        "\n",
        "import numpy as np\n",
        "import pandas as pd\n",
        "import keras\n",
        "import matplotlib.pyplot as plt\n",
        "%matplotlib inline"
      ],
      "execution_count": 0,
      "outputs": []
    },
    {
      "cell_type": "markdown",
      "metadata": {
        "id": "DCk20Vf9YZuq",
        "colab_type": "text"
      },
      "source": [
        "## Dataset \n",
        "\n",
        "In this notebook, we will use MNIST dataset for our experiment. \n",
        "\n",
        "The MNIST dataset is a collection of handwritten digits that contains 60,000 examples in training set and 10,000 test set examples. \n",
        "\n",
        "For more information about the dataset, you can refer to <a href=\"https://http://yann.lecun.com/exdb/mnist/\">MNIST dataset site</a>.\n",
        "\n",
        "In the cell below, we perform the following:\n",
        "1. **load data:** <br />\n",
        "We load the dataset directly from <a href=\"https://keras.io/datasets/\">Keras</a>.\n",
        "\n",
        "2. **pre-process step 1: Normalize feature** <br />\n",
        "$ z = \\frac{x - min(x)}{max(x)- min(x)} $ <br/>\n",
        ", where $x$ will be each and every pixel in our case, and $z$ would be our rescaled data that is ranging between $ 0 \\le z \\le 1 $. \n",
        "3. **pre-process step 2: one-hot encoding for label data.**\n",
        "In order to train our CNN, we will make use of one hot encoding.\n",
        "Eg. In our case, our label is ranging between 0-9 for each and every digit, hence if the label for one of the sample is 5 then the encoding for this label would be.\n",
        "```\n",
        "[0 0 0 0 0 1 0 0 0 0]\n",
        "```\n",
        "\n",
        "\n",
        "\n"
      ]
    },
    {
      "cell_type": "code",
      "metadata": {
        "id": "GvSTlwxFIMgC",
        "colab_type": "code",
        "colab": {}
      },
      "source": [
        "dataset='mnist'\n",
        "# load data set \n",
        "x_train, y_train, x_test, y_test = load_data(dataset, reshape=True)\n",
        "\n",
        "# normalize the data set\n",
        "x_train = normalize(x_train)\n",
        "x_test = normalize(x_test)\n",
        "\n",
        "# perform one hot encoding for the dataset\n",
        "y_train = one_hot(y_train)\n",
        "y_test = one_hot(y_test)"
      ],
      "execution_count": 0,
      "outputs": []
    },
    {
      "cell_type": "code",
      "metadata": {
        "id": "-U_B5D38IO40",
        "colab_type": "code",
        "colab": {
          "base_uri": "https://localhost:8080/",
          "height": 51
        },
        "outputId": "90175f70-6071-4cba-c0d8-7427888efc73"
      },
      "source": [
        "# once the dataset is loaded and preprocessing step is done, we will check on the dataset\n",
        "print(x_train.shape)\n",
        "print(x_test.shape)"
      ],
      "execution_count": 18,
      "outputs": [
        {
          "output_type": "stream",
          "text": [
            "(60000, 28, 28, 1)\n",
            "(10000, 28, 28, 1)\n"
          ],
          "name": "stdout"
        }
      ]
    },
    {
      "cell_type": "markdown",
      "metadata": {
        "id": "CAAsYxYYedek",
        "colab_type": "text"
      },
      "source": [
        "## Neural Network\n",
        "\n",
        "Now that we have loaded the dataset and performed some pre-processing steps we are ready to create CNN and start training it. "
      ]
    },
    {
      "cell_type": "code",
      "metadata": {
        "id": "tDChWfBVISGx",
        "colab_type": "code",
        "colab": {}
      },
      "source": [
        "batch_size = 512\n",
        "num_classes = 10\n",
        "epochs = 10\n",
        "\n",
        "NN = CNN(batch_size, epochs, num_classes)"
      ],
      "execution_count": 0,
      "outputs": []
    },
    {
      "cell_type": "code",
      "metadata": {
        "id": "2x3qA65lIT_J",
        "colab_type": "code",
        "colab": {
          "base_uri": "https://localhost:8080/",
          "height": 68
        },
        "outputId": "d6e8622b-58f2-424e-8a21-b2afac1ae4d4"
      },
      "source": [
        "layer = [32, 100]\n",
        "NN.createCNN(num_classes, layer)"
      ],
      "execution_count": 20,
      "outputs": [
        {
          "output_type": "stream",
          "text": [
            "Note : No TPU detected : The model will run on local machine with cpu...\n",
            "Upload to Colab and change runtime type to TPU if you want faster training time.\n",
            "\n"
          ],
          "name": "stdout"
        }
      ]
    },
    {
      "cell_type": "code",
      "metadata": {
        "id": "tRvhOA7RIfyp",
        "colab_type": "code",
        "colab": {
          "base_uri": "https://localhost:8080/",
          "height": 391
        },
        "outputId": "10f997e9-8370-437a-80a0-db31c09c1327"
      },
      "source": [
        "# get summary\n",
        "NN.CNN_model.summary()"
      ],
      "execution_count": 21,
      "outputs": [
        {
          "output_type": "stream",
          "text": [
            "Model: \"sequential_2\"\n",
            "_________________________________________________________________\n",
            "Layer (type)                 Output Shape              Param #   \n",
            "=================================================================\n",
            "conv2d_2 (Conv2D)            (None, 26, 26, 32)        320       \n",
            "_________________________________________________________________\n",
            "batch_normalization_3 (Batch (None, 26, 26, 32)        128       \n",
            "_________________________________________________________________\n",
            "max_pooling2d_2 (MaxPooling2 (None, 13, 13, 32)        0         \n",
            "_________________________________________________________________\n",
            "flatten_2 (Flatten)          (None, 5408)              0         \n",
            "_________________________________________________________________\n",
            "dense_3 (Dense)              (None, 100)               540900    \n",
            "_________________________________________________________________\n",
            "batch_normalization_4 (Batch (None, 100)               400       \n",
            "_________________________________________________________________\n",
            "dense_4 (Dense)              (None, 10)                1010      \n",
            "=================================================================\n",
            "Total params: 542,758\n",
            "Trainable params: 542,494\n",
            "Non-trainable params: 264\n",
            "_________________________________________________________________\n"
          ],
          "name": "stdout"
        }
      ]
    },
    {
      "cell_type": "markdown",
      "metadata": {
        "id": "jzFxkWk1fE_K",
        "colab_type": "text"
      },
      "source": [
        "Once we have done created the CNN we are ready to initiate training process on the CNN. In here we are performing cross fold validation, with the fold set to 5.\n",
        "\n",
        "**Note :** <br/>\n",
        "To make full use of Google Colab, make sure to enable GPU/TPU for your session to have faster training time.\n",
        "\n",
        "In case you do not know how to enable hardware in google colab, you can find the option in: <br/>\n",
        "**Edit -> Notebook settings -> Hardware Accelerator**"
      ]
    },
    {
      "cell_type": "code",
      "metadata": {
        "id": "pxLMRSeVI8GL",
        "colab_type": "code",
        "colab": {
          "base_uri": "https://localhost:8080/",
          "height": 1000
        },
        "outputId": "6d3fd836-472b-4d7d-aca6-4356a077100b"
      },
      "source": [
        "acc_list = NN.trainByBatch(NN.batch_size, x_train, y_train, 5)"
      ],
      "execution_count": 22,
      "outputs": [
        {
          "output_type": "stream",
          "text": [
            "\n",
            "Training on Fold:  1\n",
            "Train on 54000 samples, validate on 6000 samples\n",
            "Epoch 1/10\n",
            "54000/54000 [==============================] - 15s 270us/step - loss: 0.2302 - acc: 0.8481 - val_loss: 0.2282 - val_acc: 0.9297\n",
            "Epoch 2/10\n",
            "54000/54000 [==============================] - 14s 258us/step - loss: 0.2281 - acc: 0.9360 - val_loss: 0.2278 - val_acc: 0.9457\n",
            "Epoch 3/10\n",
            "54000/54000 [==============================] - 14s 262us/step - loss: 0.2277 - acc: 0.9499 - val_loss: 0.2275 - val_acc: 0.9538\n",
            "Epoch 4/10\n",
            "54000/54000 [==============================] - 14s 260us/step - loss: 0.2275 - acc: 0.9584 - val_loss: 0.2274 - val_acc: 0.9608\n",
            "Epoch 5/10\n",
            "54000/54000 [==============================] - 14s 261us/step - loss: 0.2274 - acc: 0.9631 - val_loss: 0.2273 - val_acc: 0.9645\n",
            "Epoch 6/10\n",
            "54000/54000 [==============================] - 14s 260us/step - loss: 0.2273 - acc: 0.9674 - val_loss: 0.2272 - val_acc: 0.9683\n",
            "Epoch 7/10\n",
            "54000/54000 [==============================] - 14s 260us/step - loss: 0.2272 - acc: 0.9698 - val_loss: 0.2272 - val_acc: 0.9710\n",
            "Epoch 8/10\n",
            "54000/54000 [==============================] - 14s 259us/step - loss: 0.2271 - acc: 0.9741 - val_loss: 0.2271 - val_acc: 0.9733\n",
            "Epoch 9/10\n",
            "54000/54000 [==============================] - 14s 260us/step - loss: 0.2271 - acc: 0.9751 - val_loss: 0.2271 - val_acc: 0.9732\n",
            "Epoch 10/10\n",
            "54000/54000 [==============================] - 14s 260us/step - loss: 0.2271 - acc: 0.9771 - val_loss: 0.2271 - val_acc: 0.9743\n",
            "6000/6000 [==============================] - 0s 78us/step\n",
            "Val Score:  [0.22705378572146098, 0.9743333333333334]\n",
            "====================================================================================\n",
            "\n",
            "\n",
            "\n",
            "Training on Fold:  2\n",
            "Train on 54000 samples, validate on 6000 samples\n",
            "Epoch 1/10\n",
            "54000/54000 [==============================] - 14s 261us/step - loss: 0.2270 - acc: 0.9773 - val_loss: 0.2269 - val_acc: 0.9815\n",
            "Epoch 2/10\n",
            "54000/54000 [==============================] - 14s 259us/step - loss: 0.2270 - acc: 0.9784 - val_loss: 0.2269 - val_acc: 0.9815\n",
            "Epoch 3/10\n",
            "54000/54000 [==============================] - 14s 263us/step - loss: 0.2270 - acc: 0.9803 - val_loss: 0.2269 - val_acc: 0.9823\n",
            "Epoch 4/10\n",
            "54000/54000 [==============================] - 14s 257us/step - loss: 0.2270 - acc: 0.9810 - val_loss: 0.2269 - val_acc: 0.9822\n",
            "Epoch 5/10\n",
            "54000/54000 [==============================] - 14s 256us/step - loss: 0.2269 - acc: 0.9828 - val_loss: 0.2269 - val_acc: 0.9827\n",
            "Epoch 6/10\n",
            "54000/54000 [==============================] - 14s 258us/step - loss: 0.2269 - acc: 0.9832 - val_loss: 0.2269 - val_acc: 0.9825\n",
            "Epoch 7/10\n",
            "54000/54000 [==============================] - 14s 261us/step - loss: 0.2269 - acc: 0.9838 - val_loss: 0.2269 - val_acc: 0.9827\n",
            "Epoch 8/10\n",
            "54000/54000 [==============================] - 14s 259us/step - loss: 0.2269 - acc: 0.9845 - val_loss: 0.2268 - val_acc: 0.9823\n",
            "\n",
            "Epoch 00008: ReduceLROnPlateau reducing learning rate to 0.05000000074505806.\n",
            "Epoch 9/10\n",
            "54000/54000 [==============================] - 14s 265us/step - loss: 0.2269 - acc: 0.9855 - val_loss: 0.2268 - val_acc: 0.9827\n",
            "Epoch 10/10\n",
            "54000/54000 [==============================] - 14s 260us/step - loss: 0.2268 - acc: 0.9862 - val_loss: 0.2268 - val_acc: 0.9828\n",
            "6000/6000 [==============================] - 1s 88us/step\n",
            "Val Score:  [0.2268357679049174, 0.9828333333333333]\n",
            "====================================================================================\n",
            "\n",
            "\n",
            "\n",
            "Training on Fold:  3\n",
            "Train on 54000 samples, validate on 6000 samples\n",
            "Epoch 1/10\n",
            "54000/54000 [==============================] - 14s 257us/step - loss: 0.2268 - acc: 0.9859 - val_loss: 0.2268 - val_acc: 0.9900\n",
            "Epoch 2/10\n",
            "54000/54000 [==============================] - 14s 260us/step - loss: 0.2268 - acc: 0.9863 - val_loss: 0.2268 - val_acc: 0.9900\n",
            "Epoch 3/10\n",
            "54000/54000 [==============================] - 14s 257us/step - loss: 0.2268 - acc: 0.9866 - val_loss: 0.2268 - val_acc: 0.9903\n",
            "Epoch 4/10\n",
            "54000/54000 [==============================] - 14s 257us/step - loss: 0.2268 - acc: 0.9868 - val_loss: 0.2268 - val_acc: 0.9902\n",
            "Epoch 5/10\n",
            "54000/54000 [==============================] - 14s 256us/step - loss: 0.2268 - acc: 0.9872 - val_loss: 0.2268 - val_acc: 0.9898\n",
            "Epoch 6/10\n",
            "54000/54000 [==============================] - 14s 259us/step - loss: 0.2268 - acc: 0.9873 - val_loss: 0.2268 - val_acc: 0.9898\n",
            "\n",
            "Epoch 00006: ReduceLROnPlateau reducing learning rate to 0.02500000037252903.\n",
            "Epoch 7/10\n",
            "54000/54000 [==============================] - 14s 256us/step - loss: 0.2268 - acc: 0.9881 - val_loss: 0.2268 - val_acc: 0.9898\n",
            "Epoch 8/10\n",
            "54000/54000 [==============================] - 14s 258us/step - loss: 0.2268 - acc: 0.9879 - val_loss: 0.2268 - val_acc: 0.9897\n",
            "Epoch 9/10\n",
            "54000/54000 [==============================] - 14s 258us/step - loss: 0.2268 - acc: 0.9877 - val_loss: 0.2267 - val_acc: 0.9895\n",
            "\n",
            "Epoch 00009: ReduceLROnPlateau reducing learning rate to 0.012500000186264515.\n",
            "Epoch 10/10\n",
            "54000/54000 [==============================] - 14s 263us/step - loss: 0.2268 - acc: 0.9881 - val_loss: 0.2268 - val_acc: 0.9893\n",
            "6000/6000 [==============================] - 1s 86us/step\n",
            "Val Score:  [0.22675042347113292, 0.9893333333333333]\n",
            "====================================================================================\n",
            "\n",
            "\n",
            "\n",
            "Training on Fold:  4\n",
            "Train on 54000 samples, validate on 6000 samples\n",
            "Epoch 1/10\n",
            "54000/54000 [==============================] - 14s 260us/step - loss: 0.2268 - acc: 0.9879 - val_loss: 0.2267 - val_acc: 0.9917\n",
            "Epoch 2/10\n",
            "54000/54000 [==============================] - 14s 263us/step - loss: 0.2268 - acc: 0.9881 - val_loss: 0.2267 - val_acc: 0.9915\n",
            "Epoch 3/10\n",
            "54000/54000 [==============================] - 14s 261us/step - loss: 0.2268 - acc: 0.9886 - val_loss: 0.2267 - val_acc: 0.9917\n",
            "Epoch 4/10\n",
            "54000/54000 [==============================] - 14s 262us/step - loss: 0.2268 - acc: 0.9883 - val_loss: 0.2267 - val_acc: 0.9912\n",
            "\n",
            "Epoch 00004: ReduceLROnPlateau reducing learning rate to 0.0062500000931322575.\n",
            "Epoch 5/10\n",
            "54000/54000 [==============================] - 14s 265us/step - loss: 0.2268 - acc: 0.9884 - val_loss: 0.2267 - val_acc: 0.9913\n",
            "Epoch 6/10\n",
            "54000/54000 [==============================] - 14s 262us/step - loss: 0.2268 - acc: 0.9886 - val_loss: 0.2267 - val_acc: 0.9912\n",
            "Epoch 7/10\n",
            "54000/54000 [==============================] - 14s 259us/step - loss: 0.2268 - acc: 0.9883 - val_loss: 0.2267 - val_acc: 0.9917\n",
            "\n",
            "Epoch 00007: ReduceLROnPlateau reducing learning rate to 0.0031250000465661287.\n",
            "Epoch 8/10\n",
            "54000/54000 [==============================] - 14s 258us/step - loss: 0.2268 - acc: 0.9880 - val_loss: 0.2267 - val_acc: 0.9913\n",
            "Epoch 9/10\n",
            "54000/54000 [==============================] - 14s 258us/step - loss: 0.2268 - acc: 0.9881 - val_loss: 0.2267 - val_acc: 0.9913\n",
            "Epoch 10/10\n",
            "54000/54000 [==============================] - 14s 259us/step - loss: 0.2268 - acc: 0.9887 - val_loss: 0.2267 - val_acc: 0.9912\n",
            "\n",
            "Epoch 00010: ReduceLROnPlateau reducing learning rate to 0.0015625000232830644.\n",
            "6000/6000 [==============================] - 0s 82us/step\n",
            "Val Score:  [0.22669884765148163, 0.9911666666666666]\n",
            "====================================================================================\n",
            "\n",
            "\n",
            "\n",
            "Training on Fold:  5\n",
            "Train on 54000 samples, validate on 6000 samples\n",
            "Epoch 1/10\n",
            "54000/54000 [==============================] - 14s 264us/step - loss: 0.2268 - acc: 0.9886 - val_loss: 0.2267 - val_acc: 0.9918\n",
            "Epoch 2/10\n",
            "54000/54000 [==============================] - 14s 262us/step - loss: 0.2268 - acc: 0.9885 - val_loss: 0.2267 - val_acc: 0.9920\n",
            "Epoch 3/10\n",
            "54000/54000 [==============================] - 14s 258us/step - loss: 0.2268 - acc: 0.9882 - val_loss: 0.2267 - val_acc: 0.9918\n",
            "Epoch 4/10\n",
            "54000/54000 [==============================] - 14s 261us/step - loss: 0.2268 - acc: 0.9881 - val_loss: 0.2267 - val_acc: 0.9918\n",
            "Epoch 5/10\n",
            "54000/54000 [==============================] - 14s 259us/step - loss: 0.2268 - acc: 0.9884 - val_loss: 0.2267 - val_acc: 0.9920\n",
            "\n",
            "Epoch 00005: ReduceLROnPlateau reducing learning rate to 0.0007812500116415322.\n",
            "Epoch 6/10\n",
            "54000/54000 [==============================] - 14s 261us/step - loss: 0.2268 - acc: 0.9884 - val_loss: 0.2267 - val_acc: 0.9917\n",
            "Epoch 7/10\n",
            "54000/54000 [==============================] - 14s 260us/step - loss: 0.2268 - acc: 0.9887 - val_loss: 0.2267 - val_acc: 0.9920\n",
            "Epoch 8/10\n",
            "54000/54000 [==============================] - 14s 259us/step - loss: 0.2268 - acc: 0.9887 - val_loss: 0.2267 - val_acc: 0.9920\n",
            "\n",
            "Epoch 00008: ReduceLROnPlateau reducing learning rate to 0.0003906250058207661.\n",
            "Epoch 9/10\n",
            "54000/54000 [==============================] - 14s 262us/step - loss: 0.2268 - acc: 0.9887 - val_loss: 0.2267 - val_acc: 0.9915\n",
            "Epoch 10/10\n",
            "54000/54000 [==============================] - 14s 261us/step - loss: 0.2268 - acc: 0.9886 - val_loss: 0.2267 - val_acc: 0.9917\n",
            "6000/6000 [==============================] - 0s 82us/step\n",
            "Val Score:  [0.22669999372959138, 0.9916666666666667]\n",
            "====================================================================================\n",
            "\n",
            "\n"
          ],
          "name": "stdout"
        }
      ]
    },
    {
      "cell_type": "markdown",
      "metadata": {
        "id": "FLREzUAugdPz",
        "colab_type": "text"
      },
      "source": [
        "## Evaluation\n",
        "\n",
        "With a relative simple CNN set up, we managed to achieve 98% accuracy rate with the testing data. "
      ]
    },
    {
      "cell_type": "code",
      "metadata": {
        "id": "Yp4UnptrKbuP",
        "colab_type": "code",
        "colab": {
          "base_uri": "https://localhost:8080/",
          "height": 68
        },
        "outputId": "fb69ec78-9a7b-46b2-90a9-fbcca18d6fd7"
      },
      "source": [
        "score = NN.CNN_model.evaluate(x_test, y_test)\n",
        "print('Test loss:', score[0])\n",
        "print('Test accuracy:', score[1])"
      ],
      "execution_count": 23,
      "outputs": [
        {
          "output_type": "stream",
          "text": [
            "10000/10000 [==============================] - 1s 86us/step\n",
            "Test loss: 0.22685438833236693\n",
            "Test accuracy: 0.9819\n"
          ],
          "name": "stdout"
        }
      ]
    },
    {
      "cell_type": "markdown",
      "metadata": {
        "id": "UCe7Sb-ZgzAF",
        "colab_type": "text"
      },
      "source": [
        "Now we can plot out some of the testing datas and see how well our CNN classifies the unseen data."
      ]
    },
    {
      "cell_type": "code",
      "metadata": {
        "id": "o_O7dZK_jUNC",
        "colab_type": "code",
        "colab": {
          "base_uri": "https://localhost:8080/",
          "height": 570
        },
        "outputId": "88d0b344-04fe-46b4-adf9-fdc94cea3245"
      },
      "source": [
        "plot_predictions(np.squeeze(x_test[:16]), NN.CNN_model.predict(x_test[:16]), y_test[:16].argmax(axis=1), dataset)"
      ],
      "execution_count": 24,
      "outputs": [
        {
          "output_type": "display_data",
          "data": {
            "text/plain": [
              "<Figure size 288x216 with 0 Axes>"
            ]
          },
          "metadata": {
            "tags": []
          }
        },
        {
          "output_type": "display_data",
          "data": {
            "image/png": "[encoded data removed]",
            "text/plain": [
              "<Figure size 576x576 with 16 Axes>"
            ]
          },
          "metadata": {
            "tags": []
          }
        }
      ]
    },
    {
      "cell_type": "markdown",
      "metadata": {
        "id": "5sLmt9Szs84l",
        "colab_type": "text"
      },
      "source": [
        "update to utility py file later."
      ]
    },
    {
      "cell_type": "code",
      "metadata": {
        "id": "sAo0dd7ankyw",
        "colab_type": "code",
        "colab": {}
      },
      "source": [
        "predicted_classes = NN.CNN_model.predict(x_test)\n",
        "predicted_classes = np.argmax(np.round(predicted_classes),axis=1)\n",
        "test_labels = np.argmax(y_test, axis=1)"
      ],
      "execution_count": 0,
      "outputs": []
    },
    {
      "cell_type": "code",
      "metadata": {
        "id": "KeT4QWLYn6JO",
        "colab_type": "code",
        "colab": {
          "base_uri": "https://localhost:8080/",
          "height": 34
        },
        "outputId": "c0397a9a-005e-4f67-aba2-e04c355cf624"
      },
      "source": [
        "predicted_classes.shape, test_labels.shape"
      ],
      "execution_count": 29,
      "outputs": [
        {
          "output_type": "execute_result",
          "data": {
            "text/plain": [
              "((10000,), (10000,))"
            ]
          },
          "metadata": {
            "tags": []
          },
          "execution_count": 29
        }
      ]
    },
    {
      "cell_type": "code",
      "metadata": {
        "id": "BvZjjPy2n9Yp",
        "colab_type": "code",
        "colab": {
          "base_uri": "https://localhost:8080/",
          "height": 314
        },
        "outputId": "a41f9d80-dd1d-4309-9327-b2794f7006dc"
      },
      "source": [
        "incorrect = np.where(predicted_classes!=test_labels)[0]\n",
        "\n",
        "print(\"Found {} incorrect labels\" .format(len(incorrect)))\n",
        "\n",
        "for i, incorrect in enumerate(incorrect[:9]):\n",
        "    plt.subplot(3,3,i+1)\n",
        "    plt.imshow(x_test[incorrect].reshape(28,28), interpolation='none')\n",
        "    plt.title(\"Predicted {}, Class {}\".format(predicted_classes[incorrect], test_labels[incorrect]))\n",
        "    plt.tight_layout()"
      ],
      "execution_count": 38,
      "outputs": [
        {
          "output_type": "stream",
          "text": [
            "Found 211 incorrect labels\n"
          ],
          "name": "stdout"
        },
        {
          "output_type": "display_data",
          "data": {
            "image/png": "[encoded data removed]",
            "text/plain": [
              "<Figure size 432x288 with 9 Axes>"
            ]
          },
          "metadata": {
            "tags": []
          }
        }
      ]
    }
  ]
}