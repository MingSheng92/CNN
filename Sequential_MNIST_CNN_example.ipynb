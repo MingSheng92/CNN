{
  "nbformat": 4,
  "nbformat_minor": 0,
  "metadata": {
    "colab": {
      "name": "Sequential MNIST CNN example",
      "provenance": [],
      "include_colab_link": true
    },
    "kernelspec": {
      "name": "python3",
      "display_name": "Python 3"
    },
    "accelerator": "GPU"
  },
  "cells": [
    {
      "cell_type": "markdown",
      "metadata": {
        "id": "view-in-github",
        "colab_type": "text"
      },
      "source": [
        "<a href=\"https://colab.research.google.com/github/MingSheng92/CNN/blob/master/Sequential_MNIST_CNN_example.ipynb\" target=\"_parent\"><img src=\"https://colab.research.google.com/assets/colab-badge.svg\" alt=\"Open In Colab\"/></a>"
      ]
    },
    {
      "cell_type": "markdown",
      "metadata": {
        "id": "gpIAaX9uVQ82",
        "colab_type": "text"
      },
      "source": [
        "## Sequential Convolutional Neural Network (CNN)\n",
        "\n",
        "Below is the example to load and run CNN on MNIST dataset.\n",
        "\n",
        "The notebook is tested on <a href=\"https://colab.research.google.com/\">Google colab</a>.\n",
        "\n",
        "First we will load the source/package from github to our session with the use of <b>!git clone</b>\n"
      ]
    },
    {
      "cell_type": "code",
      "metadata": {
        "id": "2OoNnYOSICwY",
        "colab_type": "code",
        "colab": {
          "base_uri": "https://localhost:8080/",
          "height": 136
        },
        "outputId": "6fe6a26d-f46d-4dee-84b2-7f270e645a5c"
      },
      "source": [
        "!git clone https://github.com/MingSheng92/CNN.git"
      ],
      "execution_count": 1,
      "outputs": [
        {
          "output_type": "stream",
          "text": [
            "Cloning into 'CNN'...\n",
            "remote: Enumerating objects: 12, done.\u001b[K\n",
            "remote: Counting objects:   8% (1/12)\u001b[K\rremote: Counting objects:  16% (2/12)\u001b[K\rremote: Counting objects:  25% (3/12)\u001b[K\rremote: Counting objects:  33% (4/12)\u001b[K\rremote: Counting objects:  41% (5/12)\u001b[K\rremote: Counting objects:  50% (6/12)\u001b[K\rremote: Counting objects:  58% (7/12)\u001b[K\rremote: Counting objects:  66% (8/12)\u001b[K\rremote: Counting objects:  75% (9/12)\u001b[K\rremote: Counting objects:  83% (10/12)\u001b[K\rremote: Counting objects:  91% (11/12)\u001b[K\rremote: Counting objects: 100% (12/12)\u001b[K\rremote: Counting objects: 100% (12/12), done.\u001b[K\n",
            "remote: Compressing objects:   8% (1/12)\u001b[K\rremote: Compressing objects:  16% (2/12)\u001b[K\rremote: Compressing objects:  25% (3/12)\u001b[K\rremote: Compressing objects:  33% (4/12)\u001b[K\rremote: Compressing objects:  41% (5/12)\u001b[K\rremote: Compressing objects:  50% (6/12)\u001b[K\rremote: Compressing objects:  58% (7/12)\u001b[K\rremote: Compressing objects:  66% (8/12)\u001b[K\rremote: Compressing objects:  75% (9/12)\u001b[K\rremote: Compressing objects:  83% (10/12)\u001b[K\rremote: Compressing objects:  91% (11/12)\u001b[K\rremote: Compressing objects: 100% (12/12)\u001b[K\rremote: Compressing objects: 100% (12/12), done.\u001b[K\n",
            "Receiving objects:   0% (1/110)   \rReceiving objects:   1% (2/110)   \rReceiving objects:   2% (3/110)   \rReceiving objects:   3% (4/110)   \rReceiving objects:   4% (5/110)   \rReceiving objects:   5% (6/110)   \rReceiving objects:   6% (7/110)   \rReceiving objects:   7% (8/110)   \rReceiving objects:   8% (9/110)   \rReceiving objects:   9% (10/110)   \rReceiving objects:  10% (11/110)   \rReceiving objects:  11% (13/110)   \rReceiving objects:  12% (14/110)   \rReceiving objects:  13% (15/110)   \rReceiving objects:  14% (16/110)   \rReceiving objects:  15% (17/110)   \rReceiving objects:  16% (18/110)   \rReceiving objects:  17% (19/110)   \rReceiving objects:  18% (20/110)   \rReceiving objects:  19% (21/110)   \rReceiving objects:  20% (22/110)   \rReceiving objects:  21% (24/110)   \rReceiving objects:  22% (25/110)   \rReceiving objects:  23% (26/110)   \rReceiving objects:  24% (27/110)   \rReceiving objects:  25% (28/110)   \rReceiving objects:  26% (29/110)   \rReceiving objects:  27% (30/110)   \rReceiving objects:  28% (31/110)   \rReceiving objects:  29% (32/110)   \rReceiving objects:  30% (33/110)   \rReceiving objects:  31% (35/110)   \rReceiving objects:  32% (36/110)   \rReceiving objects:  33% (37/110)   \rReceiving objects:  34% (38/110)   \rReceiving objects:  35% (39/110)   \rReceiving objects:  36% (40/110)   \rReceiving objects:  37% (41/110)   \rReceiving objects:  38% (42/110)   \rReceiving objects:  39% (43/110)   \rReceiving objects:  40% (44/110)   \rReceiving objects:  41% (46/110)   \rReceiving objects:  42% (47/110)   \rReceiving objects:  43% (48/110)   \rReceiving objects:  44% (49/110)   \rReceiving objects:  45% (50/110)   \rReceiving objects:  46% (51/110)   \rReceiving objects:  47% (52/110)   \rReceiving objects:  48% (53/110)   \rReceiving objects:  49% (54/110)   \rReceiving objects:  50% (55/110)   \rReceiving objects:  51% (57/110)   \rReceiving objects:  52% (58/110)   \rReceiving objects:  53% (59/110)   \rReceiving objects:  54% (60/110)   \rReceiving objects:  55% (61/110)   \rReceiving objects:  56% (62/110)   \rReceiving objects:  57% (63/110)   \rReceiving objects:  58% (64/110)   \rReceiving objects:  59% (65/110)   \rReceiving objects:  60% (66/110)   \rReceiving objects:  61% (68/110)   \rReceiving objects:  62% (69/110)   \rReceiving objects:  63% (70/110)   \rReceiving objects:  64% (71/110)   \rremote: Total 110 (delta 3), reused 0 (delta 0), pack-reused 98\u001b[K\n",
            "Receiving objects:  65% (72/110)   \rReceiving objects:  66% (73/110)   \rReceiving objects:  67% (74/110)   \rReceiving objects:  68% (75/110)   \rReceiving objects:  69% (76/110)   \rReceiving objects:  70% (77/110)   \rReceiving objects:  71% (79/110)   \rReceiving objects:  72% (80/110)   \rReceiving objects:  73% (81/110)   \rReceiving objects:  74% (82/110)   \rReceiving objects:  75% (83/110)   \rReceiving objects:  76% (84/110)   \rReceiving objects:  77% (85/110)   \rReceiving objects:  78% (86/110)   \rReceiving objects:  79% (87/110)   \rReceiving objects:  80% (88/110)   \rReceiving objects:  81% (90/110)   \rReceiving objects:  82% (91/110)   \rReceiving objects:  83% (92/110)   \rReceiving objects:  84% (93/110)   \rReceiving objects:  85% (94/110)   \rReceiving objects:  86% (95/110)   \rReceiving objects:  87% (96/110)   \rReceiving objects:  88% (97/110)   \rReceiving objects:  89% (98/110)   \rReceiving objects:  90% (99/110)   \rReceiving objects:  91% (101/110)   \rReceiving objects:  92% (102/110)   \rReceiving objects:  93% (103/110)   \rReceiving objects:  94% (104/110)   \rReceiving objects:  95% (105/110)   \rReceiving objects:  96% (106/110)   \rReceiving objects:  97% (107/110)   \rReceiving objects:  98% (108/110)   \rReceiving objects:  99% (109/110)   \rReceiving objects: 100% (110/110)   \rReceiving objects: 100% (110/110), 31.71 KiB | 364.00 KiB/s, done.\n",
            "Resolving deltas:   0% (0/45)   \rResolving deltas:  48% (22/45)   \rResolving deltas:  51% (23/45)   \rResolving deltas:  57% (26/45)   \rResolving deltas:  60% (27/45)   \rResolving deltas:  66% (30/45)   \rResolving deltas:  73% (33/45)   \rResolving deltas:  80% (36/45)   \rResolving deltas: 100% (45/45)   \rResolving deltas: 100% (45/45), done.\n"
          ],
          "name": "stdout"
        }
      ]
    },
    {
      "cell_type": "markdown",
      "metadata": {
        "id": "hay1KGKdW3Xe",
        "colab_type": "text"
      },
      "source": [
        "## Import scripts \n",
        "\n",
        "Once the package is loaded, we will proceed to load the scripts that we will be using for image classification.\n",
        "\n",
        "First we will load the scripts with jupyter magic function <b>%load</b>, and we will be able to use the code as usual as shown below."
      ]
    },
    {
      "cell_type": "code",
      "metadata": {
        "id": "2hXWD5XHIKqK",
        "colab_type": "code",
        "colab": {}
      },
      "source": [
        "%load /content/CNN/scripts/ConvNeuralNetwork.py\n",
        "%load /content/CNN/scripts/Functional_CNN.py\n",
        "%load /content/CNN/scripts/Sequential_CNN.py\n",
        "%load /content/CNN/scripts/preprocess.py\n",
        "%load /content/CNN/scripts/PCA.py\n",
        "%load /content/CNN/scripts/utility.py\n",
        "\n",
        "from CNN.scripts.preprocess import load_data, normalize, one_hot\n",
        "from CNN.scripts.Sequential_CNN import CNN\n",
        "from CNN.scripts.PCA import PCA\n",
        "from CNN.scripts.utility import plot_predictions\n",
        "\n",
        "import numpy as np\n",
        "import pandas as pd\n",
        "import keras\n",
        "import matplotlib.pyplot as plt\n",
        "%matplotlib inline"
      ],
      "execution_count": 0,
      "outputs": []
    },
    {
      "cell_type": "markdown",
      "metadata": {
        "id": "DCk20Vf9YZuq",
        "colab_type": "text"
      },
      "source": [
        "## Dataset \n",
        "\n",
        "In this notebook, we will use MNIST dataset for our experiment. \n",
        "\n",
        "The MNIST dataset is a collection of handwritten digits that contains 60,000 examples in training set and 10,000 test set examples. \n",
        "\n",
        "For more information about the dataset, you can refer to <a href=\"https://http://yann.lecun.com/exdb/mnist/\">MNIST dataset site</a>.\n",
        "\n",
        "In the cell below, we perform the following:\n",
        "1. **load data:** <br />\n",
        "We load the dataset directly from <a href=\"https://keras.io/datasets/\">Keras</a>.\n",
        "\n",
        "2. **pre-process step 1: Normalize feature** <br />\n",
        "$ z = \\frac{x - min(x)}{max(x)- min(x)} $ <br/>\n",
        ", where $x$ will be each and every pixel in our case, and $z$ would be our rescaled data that is ranging between $ 0 \\le z \\le 1 $.\n",
        "3. **pre-process step 2: one-hot encoding for label data.**\n",
        "In order to train our CNN, we will make use of one hot encoding.\n",
        "Eg. In our case, our label is ranging between 0-9 for each and every digit, hence if the label for one of the sample is 5 then the encoding for this label would be.\n",
        "```\n",
        "[0 0 0 0 0 1 0 0 0 0]\n",
        "```\n",
        "\n",
        "\n",
        "\n"
      ]
    },
    {
      "cell_type": "code",
      "metadata": {
        "id": "GvSTlwxFIMgC",
        "colab_type": "code",
        "colab": {
          "base_uri": "https://localhost:8080/",
          "height": 51
        },
        "outputId": "a594ecd2-4903-41aa-b799-e10331e07e5f"
      },
      "source": [
        "dataset='mnist'\n",
        "# load data set \n",
        "x_train, y_train, x_test, y_test = load_data(dataset, reshape=True)\n",
        "\n",
        "# normalize the data set\n",
        "x_train = normalize(x_train)\n",
        "x_test = normalize(x_test)\n",
        "\n",
        "# perform one hot encoding for the dataset\n",
        "y_train = one_hot(y_train)\n",
        "y_test = one_hot(y_test)"
      ],
      "execution_count": 4,
      "outputs": [
        {
          "output_type": "stream",
          "text": [
            "Downloading data from https://s3.amazonaws.com/img-datasets/mnist.npz\n",
            "11493376/11490434 [==============================] - 1s 0us/step\n"
          ],
          "name": "stdout"
        }
      ]
    },
    {
      "cell_type": "code",
      "metadata": {
        "id": "-U_B5D38IO40",
        "colab_type": "code",
        "colab": {
          "base_uri": "https://localhost:8080/",
          "height": 51
        },
        "outputId": "502c272e-81cd-457e-a395-2da0a670c9a3"
      },
      "source": [
        "# once the dataset is loaded and preprocessing step is done, we will check on the dataset\n",
        "print(x_train.shape)\n",
        "print(x_test.shape)"
      ],
      "execution_count": 14,
      "outputs": [
        {
          "output_type": "stream",
          "text": [
            "(60000, 28, 28, 1)\n",
            "(10000, 28, 28, 1)\n"
          ],
          "name": "stdout"
        }
      ]
    },
    {
      "cell_type": "markdown",
      "metadata": {
        "id": "CAAsYxYYedek",
        "colab_type": "text"
      },
      "source": [
        "## Neural Network\n",
        "\n",
        "Now that we have loaded the dataset and performed some pre-processing steps we are ready to create CNN and start training it. "
      ]
    },
    {
      "cell_type": "code",
      "metadata": {
        "id": "tDChWfBVISGx",
        "colab_type": "code",
        "colab": {}
      },
      "source": [
        "batch_size = 512\n",
        "num_classes = 10\n",
        "epochs = 10\n",
        "\n",
        "NN = CNN(batch_size, epochs, num_classes)"
      ],
      "execution_count": 0,
      "outputs": []
    },
    {
      "cell_type": "code",
      "metadata": {
        "id": "2x3qA65lIT_J",
        "colab_type": "code",
        "colab": {
          "base_uri": "https://localhost:8080/",
          "height": 530
        },
        "outputId": "299bd355-4a45-4714-eabe-b5ab03b62105"
      },
      "source": [
        "layer = [32, 100]\n",
        "NN.createCNN(num_classes, layer)"
      ],
      "execution_count": 7,
      "outputs": [
        {
          "output_type": "stream",
          "text": [
            "Note : No TPU detected : The model will run on local machine with cpu...\n",
            "Upload to Colab and change runtime type to TPU if you want faster training time.\n",
            "\n",
            "WARNING:tensorflow:From /usr/local/lib/python3.6/dist-packages/keras/backend/tensorflow_backend.py:66: The name tf.get_default_graph is deprecated. Please use tf.compat.v1.get_default_graph instead.\n",
            "\n",
            "WARNING:tensorflow:From /usr/local/lib/python3.6/dist-packages/keras/backend/tensorflow_backend.py:541: The name tf.placeholder is deprecated. Please use tf.compat.v1.placeholder instead.\n",
            "\n",
            "WARNING:tensorflow:From /usr/local/lib/python3.6/dist-packages/keras/backend/tensorflow_backend.py:4432: The name tf.random_uniform is deprecated. Please use tf.random.uniform instead.\n",
            "\n",
            "WARNING:tensorflow:From /usr/local/lib/python3.6/dist-packages/keras/backend/tensorflow_backend.py:190: The name tf.get_default_session is deprecated. Please use tf.compat.v1.get_default_session instead.\n",
            "\n",
            "WARNING:tensorflow:From /usr/local/lib/python3.6/dist-packages/keras/backend/tensorflow_backend.py:197: The name tf.ConfigProto is deprecated. Please use tf.compat.v1.ConfigProto instead.\n",
            "\n",
            "WARNING:tensorflow:From /usr/local/lib/python3.6/dist-packages/keras/backend/tensorflow_backend.py:203: The name tf.Session is deprecated. Please use tf.compat.v1.Session instead.\n",
            "\n",
            "WARNING:tensorflow:From /usr/local/lib/python3.6/dist-packages/keras/backend/tensorflow_backend.py:207: The name tf.global_variables is deprecated. Please use tf.compat.v1.global_variables instead.\n",
            "\n",
            "WARNING:tensorflow:From /usr/local/lib/python3.6/dist-packages/keras/backend/tensorflow_backend.py:216: The name tf.is_variable_initialized is deprecated. Please use tf.compat.v1.is_variable_initialized instead.\n",
            "\n",
            "WARNING:tensorflow:From /usr/local/lib/python3.6/dist-packages/keras/backend/tensorflow_backend.py:223: The name tf.variables_initializer is deprecated. Please use tf.compat.v1.variables_initializer instead.\n",
            "\n",
            "WARNING:tensorflow:From /usr/local/lib/python3.6/dist-packages/keras/backend/tensorflow_backend.py:2041: The name tf.nn.fused_batch_norm is deprecated. Please use tf.compat.v1.nn.fused_batch_norm instead.\n",
            "\n",
            "WARNING:tensorflow:From /usr/local/lib/python3.6/dist-packages/keras/backend/tensorflow_backend.py:148: The name tf.placeholder_with_default is deprecated. Please use tf.compat.v1.placeholder_with_default instead.\n",
            "\n",
            "WARNING:tensorflow:From /usr/local/lib/python3.6/dist-packages/keras/backend/tensorflow_backend.py:4267: The name tf.nn.max_pool is deprecated. Please use tf.nn.max_pool2d instead.\n",
            "\n",
            "WARNING:tensorflow:From /usr/local/lib/python3.6/dist-packages/keras/optimizers.py:793: The name tf.train.Optimizer is deprecated. Please use tf.compat.v1.train.Optimizer instead.\n",
            "\n"
          ],
          "name": "stdout"
        }
      ]
    },
    {
      "cell_type": "code",
      "metadata": {
        "id": "tRvhOA7RIfyp",
        "colab_type": "code",
        "colab": {
          "base_uri": "https://localhost:8080/",
          "height": 391
        },
        "outputId": "011a63aa-7689-4d34-90ca-acaa0be8cc64"
      },
      "source": [
        "# get summary\n",
        "NN.CNN_model.summary()"
      ],
      "execution_count": 8,
      "outputs": [
        {
          "output_type": "stream",
          "text": [
            "Model: \"sequential_1\"\n",
            "_________________________________________________________________\n",
            "Layer (type)                 Output Shape              Param #   \n",
            "=================================================================\n",
            "conv2d_1 (Conv2D)            (None, 26, 26, 32)        320       \n",
            "_________________________________________________________________\n",
            "batch_normalization_1 (Batch (None, 26, 26, 32)        128       \n",
            "_________________________________________________________________\n",
            "max_pooling2d_1 (MaxPooling2 (None, 13, 13, 32)        0         \n",
            "_________________________________________________________________\n",
            "flatten_1 (Flatten)          (None, 5408)              0         \n",
            "_________________________________________________________________\n",
            "dense_1 (Dense)              (None, 100)               540900    \n",
            "_________________________________________________________________\n",
            "batch_normalization_2 (Batch (None, 100)               400       \n",
            "_________________________________________________________________\n",
            "dense_2 (Dense)              (None, 10)                1010      \n",
            "=================================================================\n",
            "Total params: 542,758\n",
            "Trainable params: 542,494\n",
            "Non-trainable params: 264\n",
            "_________________________________________________________________\n"
          ],
          "name": "stdout"
        }
      ]
    },
    {
      "cell_type": "markdown",
      "metadata": {
        "id": "jzFxkWk1fE_K",
        "colab_type": "text"
      },
      "source": [
        "Once we have done created the CNN we are ready to initiate training process on the CNN. In here we are performing cross fold validation, with the fold set to 5.\n",
        "\n",
        "**Note :** <br/>\n",
        "To make full use of Google Colab, make sure to enable GPU/TPU for your session to have faster training time.\n",
        "\n",
        "In case you do not know how to enable hardware in google colab, you can find the option in: <br/>\n",
        "**Edit -> Notebook settings -> Hardware Accelerator**"
      ]
    },
    {
      "cell_type": "code",
      "metadata": {
        "id": "pxLMRSeVI8GL",
        "colab_type": "code",
        "colab": {
          "base_uri": "https://localhost:8080/",
          "height": 1000
        },
        "outputId": "f27c0b7f-8907-4071-eec3-71af58eb6f42"
      },
      "source": [
        "acc_list = NN.trainByBatch(NN.batch_size, x_train, y_train, 5)"
      ],
      "execution_count": 9,
      "outputs": [
        {
          "output_type": "stream",
          "text": [
            "\n",
            "Training on Fold:  1\n",
            "WARNING:tensorflow:From /usr/local/lib/python3.6/dist-packages/tensorflow_core/python/ops/math_grad.py:1424: where (from tensorflow.python.ops.array_ops) is deprecated and will be removed in a future version.\n",
            "Instructions for updating:\n",
            "Use tf.where in 2.0, which has the same broadcast rule as np.where\n",
            "WARNING:tensorflow:From /usr/local/lib/python3.6/dist-packages/keras/backend/tensorflow_backend.py:1033: The name tf.assign_add is deprecated. Please use tf.compat.v1.assign_add instead.\n",
            "\n",
            "WARNING:tensorflow:From /usr/local/lib/python3.6/dist-packages/keras/backend/tensorflow_backend.py:1020: The name tf.assign is deprecated. Please use tf.compat.v1.assign instead.\n",
            "\n",
            "Train on 54000 samples, validate on 6000 samples\n",
            "Epoch 1/10\n",
            "54000/54000 [==============================] - 18s 339us/step - loss: 0.2301 - acc: 0.8509 - val_loss: 0.2282 - val_acc: 0.9323\n",
            "Epoch 2/10\n",
            "54000/54000 [==============================] - 15s 270us/step - loss: 0.2281 - acc: 0.9358 - val_loss: 0.2277 - val_acc: 0.9485\n",
            "Epoch 3/10\n",
            "54000/54000 [==============================] - 14s 267us/step - loss: 0.2277 - acc: 0.9507 - val_loss: 0.2275 - val_acc: 0.9590\n",
            "Epoch 4/10\n",
            "54000/54000 [==============================] - 14s 264us/step - loss: 0.2275 - acc: 0.9583 - val_loss: 0.2274 - val_acc: 0.9620\n",
            "Epoch 5/10\n",
            "54000/54000 [==============================] - 14s 268us/step - loss: 0.2274 - acc: 0.9645 - val_loss: 0.2273 - val_acc: 0.9650\n",
            "Epoch 6/10\n",
            "54000/54000 [==============================] - 14s 266us/step - loss: 0.2273 - acc: 0.9682 - val_loss: 0.2272 - val_acc: 0.9683\n",
            "Epoch 7/10\n",
            "54000/54000 [==============================] - 15s 269us/step - loss: 0.2272 - acc: 0.9704 - val_loss: 0.2272 - val_acc: 0.9712\n",
            "Epoch 8/10\n",
            "54000/54000 [==============================] - 14s 265us/step - loss: 0.2272 - acc: 0.9737 - val_loss: 0.2271 - val_acc: 0.9732\n",
            "Epoch 9/10\n",
            "54000/54000 [==============================] - 14s 265us/step - loss: 0.2271 - acc: 0.9753 - val_loss: 0.2271 - val_acc: 0.9752\n",
            "Epoch 10/10\n",
            "54000/54000 [==============================] - 14s 267us/step - loss: 0.2271 - acc: 0.9768 - val_loss: 0.2270 - val_acc: 0.9763\n",
            "6000/6000 [==============================] - 0s 82us/step\n",
            "Val Score:  [0.22704078841209413, 0.9763333333333334]\n",
            "====================================================================================\n",
            "\n",
            "\n",
            "\n",
            "Training on Fold:  2\n",
            "Train on 54000 samples, validate on 6000 samples\n",
            "Epoch 1/10\n",
            "54000/54000 [==============================] - 14s 268us/step - loss: 0.2271 - acc: 0.9776 - val_loss: 0.2269 - val_acc: 0.9822\n",
            "Epoch 2/10\n",
            "54000/54000 [==============================] - 14s 265us/step - loss: 0.2270 - acc: 0.9789 - val_loss: 0.2269 - val_acc: 0.9820\n",
            "Epoch 3/10\n",
            "54000/54000 [==============================] - 14s 266us/step - loss: 0.2270 - acc: 0.9805 - val_loss: 0.2269 - val_acc: 0.9822\n",
            "Epoch 4/10\n",
            "54000/54000 [==============================] - 15s 276us/step - loss: 0.2269 - acc: 0.9818 - val_loss: 0.2269 - val_acc: 0.9827\n",
            "Epoch 5/10\n",
            "54000/54000 [==============================] - 14s 264us/step - loss: 0.2269 - acc: 0.9818 - val_loss: 0.2269 - val_acc: 0.9832\n",
            "Epoch 6/10\n",
            "54000/54000 [==============================] - 14s 263us/step - loss: 0.2269 - acc: 0.9830 - val_loss: 0.2269 - val_acc: 0.9833\n",
            "Epoch 7/10\n",
            "54000/54000 [==============================] - 14s 264us/step - loss: 0.2269 - acc: 0.9831 - val_loss: 0.2269 - val_acc: 0.9830\n",
            "Epoch 8/10\n",
            "54000/54000 [==============================] - 14s 266us/step - loss: 0.2269 - acc: 0.9851 - val_loss: 0.2268 - val_acc: 0.9833\n",
            "Epoch 9/10\n",
            "54000/54000 [==============================] - 14s 266us/step - loss: 0.2269 - acc: 0.9851 - val_loss: 0.2268 - val_acc: 0.9835\n",
            "Epoch 10/10\n",
            "54000/54000 [==============================] - 14s 268us/step - loss: 0.2268 - acc: 0.9857 - val_loss: 0.2268 - val_acc: 0.9837\n",
            "6000/6000 [==============================] - 1s 88us/step\n",
            "Val Score:  [0.2268295656045278, 0.9836666666666667]\n",
            "====================================================================================\n",
            "\n",
            "\n",
            "\n",
            "Training on Fold:  3\n",
            "Train on 54000 samples, validate on 6000 samples\n",
            "Epoch 1/10\n",
            "54000/54000 [==============================] - 14s 265us/step - loss: 0.2268 - acc: 0.9858 - val_loss: 0.2267 - val_acc: 0.9902\n",
            "Epoch 2/10\n",
            "54000/54000 [==============================] - 14s 265us/step - loss: 0.2268 - acc: 0.9864 - val_loss: 0.2267 - val_acc: 0.9893\n",
            "Epoch 3/10\n",
            "54000/54000 [==============================] - 14s 263us/step - loss: 0.2268 - acc: 0.9868 - val_loss: 0.2267 - val_acc: 0.9895\n",
            "Epoch 4/10\n",
            "54000/54000 [==============================] - 14s 264us/step - loss: 0.2268 - acc: 0.9877 - val_loss: 0.2267 - val_acc: 0.9892\n",
            "\n",
            "Epoch 00004: ReduceLROnPlateau reducing learning rate to 0.05000000074505806.\n",
            "Epoch 5/10\n",
            "54000/54000 [==============================] - 14s 266us/step - loss: 0.2268 - acc: 0.9884 - val_loss: 0.2267 - val_acc: 0.9892\n",
            "Epoch 6/10\n",
            "54000/54000 [==============================] - 14s 264us/step - loss: 0.2268 - acc: 0.9887 - val_loss: 0.2267 - val_acc: 0.9897\n",
            "Epoch 7/10\n",
            "54000/54000 [==============================] - 14s 263us/step - loss: 0.2268 - acc: 0.9888 - val_loss: 0.2267 - val_acc: 0.9900\n",
            "\n",
            "Epoch 00007: ReduceLROnPlateau reducing learning rate to 0.02500000037252903.\n",
            "Epoch 8/10\n",
            "54000/54000 [==============================] - 14s 266us/step - loss: 0.2268 - acc: 0.9889 - val_loss: 0.2267 - val_acc: 0.9893\n",
            "Epoch 9/10\n",
            "54000/54000 [==============================] - 14s 268us/step - loss: 0.2268 - acc: 0.9892 - val_loss: 0.2267 - val_acc: 0.9902\n",
            "Epoch 10/10\n",
            "54000/54000 [==============================] - 14s 266us/step - loss: 0.2268 - acc: 0.9895 - val_loss: 0.2267 - val_acc: 0.9893\n",
            "\n",
            "Epoch 00010: ReduceLROnPlateau reducing learning rate to 0.012500000186264515.\n",
            "6000/6000 [==============================] - 1s 84us/step\n",
            "Val Score:  [0.2267249124844869, 0.9893333333333333]\n",
            "====================================================================================\n",
            "\n",
            "\n",
            "\n",
            "Training on Fold:  4\n",
            "Train on 54000 samples, validate on 6000 samples\n",
            "Epoch 1/10\n",
            "54000/54000 [==============================] - 14s 266us/step - loss: 0.2267 - acc: 0.9899 - val_loss: 0.2267 - val_acc: 0.9923\n",
            "Epoch 2/10\n",
            "54000/54000 [==============================] - 14s 266us/step - loss: 0.2268 - acc: 0.9896 - val_loss: 0.2267 - val_acc: 0.9930\n",
            "Epoch 3/10\n",
            "54000/54000 [==============================] - 14s 266us/step - loss: 0.2268 - acc: 0.9892 - val_loss: 0.2267 - val_acc: 0.9928\n",
            "Epoch 4/10\n",
            "54000/54000 [==============================] - 14s 266us/step - loss: 0.2268 - acc: 0.9891 - val_loss: 0.2267 - val_acc: 0.9928\n",
            "Epoch 5/10\n",
            "54000/54000 [==============================] - 15s 269us/step - loss: 0.2267 - acc: 0.9895 - val_loss: 0.2267 - val_acc: 0.9922\n",
            "\n",
            "Epoch 00005: ReduceLROnPlateau reducing learning rate to 0.0062500000931322575.\n",
            "Epoch 6/10\n",
            "54000/54000 [==============================] - 15s 271us/step - loss: 0.2268 - acc: 0.9893 - val_loss: 0.2267 - val_acc: 0.9925\n",
            "Epoch 7/10\n",
            "54000/54000 [==============================] - 14s 267us/step - loss: 0.2268 - acc: 0.9894 - val_loss: 0.2267 - val_acc: 0.9923\n",
            "Epoch 8/10\n",
            "54000/54000 [==============================] - 14s 265us/step - loss: 0.2267 - acc: 0.9898 - val_loss: 0.2267 - val_acc: 0.9922\n",
            "\n",
            "Epoch 00008: ReduceLROnPlateau reducing learning rate to 0.0031250000465661287.\n",
            "Epoch 9/10\n",
            "54000/54000 [==============================] - 14s 266us/step - loss: 0.2267 - acc: 0.9895 - val_loss: 0.2267 - val_acc: 0.9922\n",
            "Epoch 10/10\n",
            "54000/54000 [==============================] - 14s 265us/step - loss: 0.2267 - acc: 0.9899 - val_loss: 0.2267 - val_acc: 0.9922\n",
            "6000/6000 [==============================] - 0s 82us/step\n",
            "Val Score:  [0.22667590816815694, 0.9921666666666666]\n",
            "====================================================================================\n",
            "\n",
            "\n",
            "\n",
            "Training on Fold:  5\n",
            "Train on 54000 samples, validate on 6000 samples\n",
            "Epoch 1/10\n",
            "54000/54000 [==============================] - 14s 264us/step - loss: 0.2267 - acc: 0.9898 - val_loss: 0.2267 - val_acc: 0.9937\n",
            "Epoch 2/10\n",
            "54000/54000 [==============================] - 14s 265us/step - loss: 0.2267 - acc: 0.9896 - val_loss: 0.2267 - val_acc: 0.9938\n",
            "Epoch 3/10\n",
            "54000/54000 [==============================] - 14s 265us/step - loss: 0.2267 - acc: 0.9901 - val_loss: 0.2267 - val_acc: 0.9938\n",
            "Epoch 4/10\n",
            "54000/54000 [==============================] - 14s 264us/step - loss: 0.2267 - acc: 0.9894 - val_loss: 0.2267 - val_acc: 0.9932\n",
            "Epoch 5/10\n",
            "54000/54000 [==============================] - 14s 265us/step - loss: 0.2267 - acc: 0.9896 - val_loss: 0.2267 - val_acc: 0.9935\n",
            "\n",
            "Epoch 00005: ReduceLROnPlateau reducing learning rate to 0.0015625000232830644.\n",
            "Epoch 6/10\n",
            "54000/54000 [==============================] - 14s 263us/step - loss: 0.2267 - acc: 0.9896 - val_loss: 0.2267 - val_acc: 0.9938\n",
            "Epoch 7/10\n",
            "54000/54000 [==============================] - 14s 264us/step - loss: 0.2267 - acc: 0.9892 - val_loss: 0.2267 - val_acc: 0.9938\n",
            "Epoch 8/10\n",
            "54000/54000 [==============================] - 14s 264us/step - loss: 0.2267 - acc: 0.9899 - val_loss: 0.2267 - val_acc: 0.9938\n",
            "\n",
            "Epoch 00008: ReduceLROnPlateau reducing learning rate to 0.0007812500116415322.\n",
            "Epoch 9/10\n",
            "54000/54000 [==============================] - 14s 264us/step - loss: 0.2267 - acc: 0.9895 - val_loss: 0.2267 - val_acc: 0.9935\n",
            "Epoch 10/10\n",
            "54000/54000 [==============================] - 14s 263us/step - loss: 0.2267 - acc: 0.9893 - val_loss: 0.2267 - val_acc: 0.9933\n",
            "6000/6000 [==============================] - 0s 83us/step\n",
            "Val Score:  [0.22667429248491924, 0.9933333333333333]\n",
            "====================================================================================\n",
            "\n",
            "\n"
          ],
          "name": "stdout"
        }
      ]
    },
    {
      "cell_type": "markdown",
      "metadata": {
        "id": "FLREzUAugdPz",
        "colab_type": "text"
      },
      "source": [
        "## Evaluation\n",
        "\n",
        "With a relative simple CNN set up, we managed to achieve 98% accuracy rate with the testing data. "
      ]
    },
    {
      "cell_type": "code",
      "metadata": {
        "id": "Yp4UnptrKbuP",
        "colab_type": "code",
        "colab": {
          "base_uri": "https://localhost:8080/",
          "height": 68
        },
        "outputId": "e5735cea-78e8-4ac5-e9ef-0a11fe4defe6"
      },
      "source": [
        "score = NN.CNN_model.evaluate(x_test, y_test)\n",
        "print('Test loss:', score[0])\n",
        "print('Test accuracy:', score[1])"
      ],
      "execution_count": 12,
      "outputs": [
        {
          "output_type": "stream",
          "text": [
            "10000/10000 [==============================] - 1s 86us/step\n",
            "Test loss: 0.2268160147666931\n",
            "Test accuracy: 0.9839\n"
          ],
          "name": "stdout"
        }
      ]
    },
    {
      "cell_type": "markdown",
      "metadata": {
        "id": "UCe7Sb-ZgzAF",
        "colab_type": "text"
      },
      "source": [
        "Now we can plot out some of the testing datas and see how well our CNN classifies the unseen data."
      ]
    },
    {
      "cell_type": "code",
      "metadata": {
        "id": "o_O7dZK_jUNC",
        "colab_type": "code",
        "colab": {
          "base_uri": "https://localhost:8080/",
          "height": 570
        },
        "outputId": "504152bf-3469-4024-ad00-d8d71ee395d4"
      },
      "source": [
        "plot_predictions(np.squeeze(x_test[:16]), NN.CNN_model.predict(x_test[:16]), y_test[:16].argmax(axis=1), dataset)"
      ],
      "execution_count": 13,
      "outputs": [
        {
          "output_type": "display_data",
          "data": {
            "text/plain": [
              "<Figure size 288x216 with 0 Axes>"
            ]
          },
          "metadata": {
            "tags": []
          }
        },
        {
          "output_type": "display_data",
          "data": {
            "image/png": "[encoded data removed]",
            "text/plain": [
              "<Figure size 576x576 with 16 Axes>"
            ]
          },
          "metadata": {
            "tags": []
          }
        }
      ]
    }
  ]
}