{
  "nbformat": 4,
  "nbformat_minor": 0,
  "metadata": {
    "colab": {
      "name": "Sequential MNIST CNN example",
      "provenance": [],
      "toc_visible": true,
      "include_colab_link": true
    },
    "kernelspec": {
      "name": "python3",
      "display_name": "Python 3"
    },
    "accelerator": "GPU"
  },
  "cells": [
    {
      "cell_type": "markdown",
      "metadata": {
        "id": "view-in-github",
        "colab_type": "text"
      },
      "source": [
        "<a href=\"https://colab.research.google.com/github/MingSheng92/CNN/blob/master/Sequential_MNIST_CNN_example.ipynb\" target=\"_parent\"><img src=\"https://colab.research.google.com/assets/colab-badge.svg\" alt=\"Open In Colab\"/></a>"
      ]
    },
    {
      "cell_type": "markdown",
      "metadata": {
        "id": "gpIAaX9uVQ82",
        "colab_type": "text"
      },
      "source": [
        "## Sequential Convolutional Neural Network (CNN)\n",
        "\n",
        "Below is the example to load and run CNN on MNIST dataset.\n",
        "\n",
        "The notebook is written and tested on <a href=\"https://colab.research.google.com/\">Google colab</a>.\n",
        "\n",
        "First we will load the source/package from github to our session with the use of <b>!git clone</b>\n"
      ]
    },
    {
      "cell_type": "code",
      "metadata": {
        "id": "2OoNnYOSICwY",
        "colab_type": "code",
        "outputId": "6d0853a1-4a00-459c-9e90-67882821875e",
        "colab": {
          "base_uri": "https://localhost:8080/",
          "height": 136
        }
      },
      "source": [
        "!git clone https://github.com/MingSheng92/CNN.git"
      ],
      "execution_count": 1,
      "outputs": [
        {
          "output_type": "stream",
          "text": [
            "Cloning into 'CNN'...\n",
            "remote: Enumerating objects: 49, done.\u001b[K\n",
            "remote: Counting objects: 100% (49/49), done.\u001b[K\n",
            "remote: Compressing objects: 100% (49/49), done.\u001b[K\n",
            "remote: Total 147 (delta 23), reused 0 (delta 0), pack-reused 98\u001b[K\n",
            "Receiving objects: 100% (147/147), 113.36 KiB | 10.30 MiB/s, done.\n",
            "Resolving deltas: 100% (65/65), done.\n"
          ],
          "name": "stdout"
        }
      ]
    },
    {
      "cell_type": "markdown",
      "metadata": {
        "id": "hay1KGKdW3Xe",
        "colab_type": "text"
      },
      "source": [
        "## Import scripts \n",
        "\n",
        "Once the package is loaded, we will proceed to load the scripts that we will be using for image classification.\n",
        "\n",
        "First we will load the scripts with jupyter magic function <b>%load</b>, and we will be able to use the code as usual as shown below."
      ]
    },
    {
      "cell_type": "code",
      "metadata": {
        "id": "2hXWD5XHIKqK",
        "colab_type": "code",
        "colab": {}
      },
      "source": [
        "%load /content/CNN/scripts/ConvNeuralNetwork.py\n",
        "%load /content/CNN/scripts/Functional_CNN.py\n",
        "%load /content/CNN/scripts/Sequential_CNN.py\n",
        "%load /content/CNN/scripts/preprocess.py\n",
        "%load /content/CNN/scripts/PCA.py\n",
        "%load /content/CNN/scripts/utility.py\n",
        "\n",
        "from CNN.scripts.preprocess import load_data, normalize, one_hot\n",
        "from CNN.scripts.Sequential_CNN import CNN\n",
        "from CNN.scripts.PCA import PCA\n",
        "from CNN.scripts.utility import plot_predictions\n",
        "\n",
        "import numpy as np\n",
        "import pandas as pd\n",
        "import keras\n",
        "import matplotlib.pyplot as plt\n",
        "\n",
        "from sklearn.metrics import confusion_matrix\n",
        "%matplotlib inline"
      ],
      "execution_count": 0,
      "outputs": []
    },
    {
      "cell_type": "markdown",
      "metadata": {
        "id": "DCk20Vf9YZuq",
        "colab_type": "text"
      },
      "source": [
        "## Dataset \n",
        "\n",
        "In this notebook, we will use MNIST dataset for our experiment. \n",
        "\n",
        "The MNIST dataset is a collection of handwritten digits that contains 60,000 examples in training set and 10,000 test set examples. \n",
        "\n",
        "For more information about the dataset, you can refer to <a href=\"https://http://yann.lecun.com/exdb/mnist/\">MNIST dataset site</a>.\n",
        "\n",
        "In the cell below, we perform the following:\n",
        "1. **load data:** <br />\n",
        "We load the dataset directly from <a href=\"https://keras.io/datasets/\">Keras</a>.\n",
        "\n",
        "2. **pre-process step 1: Normalize feature** <br />\n",
        "$ z = \\frac{x - min(x)}{max(x)- min(x)} $ <br/>\n",
        ", where $x$ will be each and every pixel in our case, and $z$ would be our rescaled data that is ranging between $ 0 \\le z \\le 1 $. \n",
        "3. **pre-process step 2: one-hot encoding for label data.**\n",
        "In order to train our CNN, we will make use of one hot encoding.\n",
        "Eg. In our case, our label is ranging between 0-9 for each and every digit, hence if the label for one of the sample is 5 then the encoding for this label would be.\n",
        "```\n",
        "[0 0 0 0 0 1 0 0 0 0]\n",
        "```\n",
        "\n",
        "\n",
        "\n"
      ]
    },
    {
      "cell_type": "code",
      "metadata": {
        "id": "GvSTlwxFIMgC",
        "colab_type": "code",
        "colab": {
          "base_uri": "https://localhost:8080/",
          "height": 51
        },
        "outputId": "d1e0d7a7-d35c-4010-b282-16d4e80e2f83"
      },
      "source": [
        "#dataset='fashion_mnist'\n",
        "dataset='mnist'\n",
        "# load data set \n",
        "x_train, y_train, x_test, y_test = load_data(dataset, reshape=True)\n",
        "\n",
        "# normalize the data set\n",
        "x_train = normalize(x_train)\n",
        "x_test = normalize(x_test)\n",
        "\n",
        "# perform one hot encoding for the dataset\n",
        "y_train = one_hot(y_train)\n",
        "y_test = one_hot(y_test)"
      ],
      "execution_count": 18,
      "outputs": [
        {
          "output_type": "stream",
          "text": [
            "Downloading data from https://s3.amazonaws.com/img-datasets/mnist.npz\n",
            "11493376/11490434 [==============================] - 0s 0us/step\n"
          ],
          "name": "stdout"
        }
      ]
    },
    {
      "cell_type": "code",
      "metadata": {
        "id": "-U_B5D38IO40",
        "colab_type": "code",
        "outputId": "3a4f8736-5e10-4711-ec75-41fdf8a4bb6c",
        "colab": {
          "base_uri": "https://localhost:8080/",
          "height": 51
        }
      },
      "source": [
        "# once the dataset is loaded and preprocessing step is done, we will check on the dataset\n",
        "print(x_train.shape)\n",
        "print(x_test.shape)"
      ],
      "execution_count": 19,
      "outputs": [
        {
          "output_type": "stream",
          "text": [
            "(60000, 28, 28, 1)\n",
            "(10000, 28, 28, 1)\n"
          ],
          "name": "stdout"
        }
      ]
    },
    {
      "cell_type": "markdown",
      "metadata": {
        "id": "CAAsYxYYedek",
        "colab_type": "text"
      },
      "source": [
        "## Neural Network\n",
        "\n",
        "Now that we have loaded the dataset and performed some pre-processing steps we are ready to create CNN and start training it. "
      ]
    },
    {
      "cell_type": "code",
      "metadata": {
        "id": "tDChWfBVISGx",
        "colab_type": "code",
        "colab": {}
      },
      "source": [
        "batch_size = 512\n",
        "num_classes = 10\n",
        "epochs = 10\n",
        "\n",
        "NN = CNN(batch_size, epochs, num_classes)"
      ],
      "execution_count": 0,
      "outputs": []
    },
    {
      "cell_type": "code",
      "metadata": {
        "id": "2x3qA65lIT_J",
        "colab_type": "code",
        "outputId": "d5d7f605-8ceb-4cf2-d2fd-fddce9ac2ce7",
        "colab": {
          "base_uri": "https://localhost:8080/",
          "height": 68
        }
      },
      "source": [
        "layer = [32, 100]\n",
        "NN.createCNN(num_classes, layer)"
      ],
      "execution_count": 21,
      "outputs": [
        {
          "output_type": "stream",
          "text": [
            "Note : No TPU detected : The model will run on local machine with cpu...\n",
            "Upload to Colab and change runtime type to TPU if you want faster training time.\n",
            "\n"
          ],
          "name": "stdout"
        }
      ]
    },
    {
      "cell_type": "code",
      "metadata": {
        "id": "tRvhOA7RIfyp",
        "colab_type": "code",
        "outputId": "8b4e9b4f-6fed-4452-fdaf-2fca1c204b43",
        "colab": {
          "base_uri": "https://localhost:8080/",
          "height": 391
        }
      },
      "source": [
        "# get summary\n",
        "NN.CNN_model.summary()"
      ],
      "execution_count": 7,
      "outputs": [
        {
          "output_type": "stream",
          "text": [
            "Model: \"sequential_1\"\n",
            "_________________________________________________________________\n",
            "Layer (type)                 Output Shape              Param #   \n",
            "=================================================================\n",
            "conv2d_1 (Conv2D)            (None, 26, 26, 32)        320       \n",
            "_________________________________________________________________\n",
            "batch_normalization_1 (Batch (None, 26, 26, 32)        128       \n",
            "_________________________________________________________________\n",
            "max_pooling2d_1 (MaxPooling2 (None, 13, 13, 32)        0         \n",
            "_________________________________________________________________\n",
            "flatten_1 (Flatten)          (None, 5408)              0         \n",
            "_________________________________________________________________\n",
            "dense_1 (Dense)              (None, 100)               540900    \n",
            "_________________________________________________________________\n",
            "batch_normalization_2 (Batch (None, 100)               400       \n",
            "_________________________________________________________________\n",
            "dense_2 (Dense)              (None, 10)                1010      \n",
            "=================================================================\n",
            "Total params: 542,758\n",
            "Trainable params: 542,494\n",
            "Non-trainable params: 264\n",
            "_________________________________________________________________\n"
          ],
          "name": "stdout"
        }
      ]
    },
    {
      "cell_type": "markdown",
      "metadata": {
        "id": "jzFxkWk1fE_K",
        "colab_type": "text"
      },
      "source": [
        "Once we have done created the CNN we are ready to initiate training process on the CNN. In here we are performing cross fold validation, with the fold set to 5.\n",
        "\n",
        "**Note :** <br/>\n",
        "To make full use of Google Colab, make sure to enable GPU/TPU for your session to have faster training time.\n",
        "\n",
        "In case you do not know how to enable hardware in google colab, you can find the option in: <br/>\n",
        "**Edit -> Notebook settings -> Hardware Accelerator**"
      ]
    },
    {
      "cell_type": "code",
      "metadata": {
        "id": "pxLMRSeVI8GL",
        "colab_type": "code",
        "outputId": "aee301de-9d99-4a24-dfc1-645fd8a5902b",
        "colab": {
          "base_uri": "https://localhost:8080/",
          "height": 1000
        }
      },
      "source": [
        "acc_list = NN.trainByBatch(NN.batch_size, x_train, y_train, 5)"
      ],
      "execution_count": 22,
      "outputs": [
        {
          "output_type": "stream",
          "text": [
            "\n",
            "Training on Fold:  1\n",
            "Train on 54000 samples, validate on 6000 samples\n",
            "Epoch 1/10\n",
            "54000/54000 [==============================] - 9s 173us/step - loss: 0.2302 - acc: 0.8474 - val_loss: 0.2282 - val_acc: 0.9290\n",
            "Epoch 2/10\n",
            "54000/54000 [==============================] - 9s 161us/step - loss: 0.2281 - acc: 0.9364 - val_loss: 0.2277 - val_acc: 0.9458\n",
            "Epoch 3/10\n",
            "54000/54000 [==============================] - 9s 161us/step - loss: 0.2277 - acc: 0.9510 - val_loss: 0.2275 - val_acc: 0.9553\n",
            "Epoch 4/10\n",
            "54000/54000 [==============================] - 9s 160us/step - loss: 0.2275 - acc: 0.9588 - val_loss: 0.2274 - val_acc: 0.9623\n",
            "Epoch 5/10\n",
            "54000/54000 [==============================] - 9s 160us/step - loss: 0.2274 - acc: 0.9635 - val_loss: 0.2273 - val_acc: 0.9647\n",
            "Epoch 6/10\n",
            "54000/54000 [==============================] - 9s 165us/step - loss: 0.2273 - acc: 0.9681 - val_loss: 0.2272 - val_acc: 0.9663\n",
            "Epoch 7/10\n",
            "54000/54000 [==============================] - 9s 166us/step - loss: 0.2272 - acc: 0.9709 - val_loss: 0.2272 - val_acc: 0.9700\n",
            "Epoch 8/10\n",
            "54000/54000 [==============================] - 9s 159us/step - loss: 0.2272 - acc: 0.9736 - val_loss: 0.2271 - val_acc: 0.9715\n",
            "Epoch 9/10\n",
            "54000/54000 [==============================] - 9s 159us/step - loss: 0.2271 - acc: 0.9750 - val_loss: 0.2271 - val_acc: 0.9733\n",
            "Epoch 10/10\n",
            "54000/54000 [==============================] - 9s 160us/step - loss: 0.2271 - acc: 0.9775 - val_loss: 0.2271 - val_acc: 0.9747\n",
            "6000/6000 [==============================] - 0s 51us/step\n",
            "Val Score:  [0.22706247782707215, 0.9746666666666667]\n",
            "====================================================================================\n",
            "\n",
            "\n",
            "\n",
            "Training on Fold:  2\n",
            "Train on 54000 samples, validate on 6000 samples\n",
            "Epoch 1/10\n",
            "54000/54000 [==============================] - 9s 161us/step - loss: 0.2270 - acc: 0.9773 - val_loss: 0.2269 - val_acc: 0.9837\n",
            "Epoch 2/10\n",
            "54000/54000 [==============================] - 9s 159us/step - loss: 0.2270 - acc: 0.9789 - val_loss: 0.2269 - val_acc: 0.9837\n",
            "Epoch 3/10\n",
            "54000/54000 [==============================] - 9s 161us/step - loss: 0.2270 - acc: 0.9800 - val_loss: 0.2269 - val_acc: 0.9847\n",
            "Epoch 4/10\n",
            "54000/54000 [==============================] - 9s 160us/step - loss: 0.2270 - acc: 0.9818 - val_loss: 0.2268 - val_acc: 0.9845\n",
            "Epoch 5/10\n",
            "54000/54000 [==============================] - 9s 163us/step - loss: 0.2269 - acc: 0.9821 - val_loss: 0.2268 - val_acc: 0.9843\n",
            "Epoch 6/10\n",
            "54000/54000 [==============================] - 9s 165us/step - loss: 0.2269 - acc: 0.9828 - val_loss: 0.2268 - val_acc: 0.9845\n",
            "\n",
            "Epoch 00006: ReduceLROnPlateau reducing learning rate to 0.05000000074505806.\n",
            "Epoch 7/10\n",
            "54000/54000 [==============================] - 9s 161us/step - loss: 0.2269 - acc: 0.9835 - val_loss: 0.2268 - val_acc: 0.9848\n",
            "Epoch 8/10\n",
            "54000/54000 [==============================] - 9s 160us/step - loss: 0.2269 - acc: 0.9848 - val_loss: 0.2268 - val_acc: 0.9853\n",
            "Epoch 9/10\n",
            "54000/54000 [==============================] - 9s 162us/step - loss: 0.2269 - acc: 0.9850 - val_loss: 0.2268 - val_acc: 0.9860\n",
            "Epoch 10/10\n",
            "54000/54000 [==============================] - 9s 161us/step - loss: 0.2269 - acc: 0.9852 - val_loss: 0.2268 - val_acc: 0.9857\n",
            "6000/6000 [==============================] - 0s 55us/step\n",
            "Val Score:  [0.22681240264574687, 0.9856666666666667]\n",
            "====================================================================================\n",
            "\n",
            "\n",
            "\n",
            "Training on Fold:  3\n",
            "Train on 54000 samples, validate on 6000 samples\n",
            "Epoch 1/10\n",
            "54000/54000 [==============================] - 9s 160us/step - loss: 0.2269 - acc: 0.9849 - val_loss: 0.2267 - val_acc: 0.9913\n",
            "Epoch 2/10\n",
            "54000/54000 [==============================] - 9s 161us/step - loss: 0.2269 - acc: 0.9848 - val_loss: 0.2267 - val_acc: 0.9910\n",
            "Epoch 3/10\n",
            "54000/54000 [==============================] - 9s 160us/step - loss: 0.2268 - acc: 0.9858 - val_loss: 0.2267 - val_acc: 0.9908\n",
            "Epoch 4/10\n",
            "54000/54000 [==============================] - 9s 163us/step - loss: 0.2268 - acc: 0.9859 - val_loss: 0.2267 - val_acc: 0.9908\n",
            "\n",
            "Epoch 00004: ReduceLROnPlateau reducing learning rate to 0.02500000037252903.\n",
            "Epoch 5/10\n",
            "54000/54000 [==============================] - 9s 162us/step - loss: 0.2268 - acc: 0.9863 - val_loss: 0.2267 - val_acc: 0.9905\n",
            "Epoch 6/10\n",
            "54000/54000 [==============================] - 9s 165us/step - loss: 0.2268 - acc: 0.9871 - val_loss: 0.2267 - val_acc: 0.9907\n",
            "Epoch 7/10\n",
            "54000/54000 [==============================] - 9s 165us/step - loss: 0.2268 - acc: 0.9867 - val_loss: 0.2267 - val_acc: 0.9910\n",
            "\n",
            "Epoch 00007: ReduceLROnPlateau reducing learning rate to 0.012500000186264515.\n",
            "Epoch 8/10\n",
            "54000/54000 [==============================] - 9s 163us/step - loss: 0.2268 - acc: 0.9864 - val_loss: 0.2267 - val_acc: 0.9910\n",
            "Epoch 9/10\n",
            "54000/54000 [==============================] - 9s 163us/step - loss: 0.2268 - acc: 0.9867 - val_loss: 0.2267 - val_acc: 0.9907\n",
            "Epoch 10/10\n",
            "54000/54000 [==============================] - 9s 161us/step - loss: 0.2268 - acc: 0.9872 - val_loss: 0.2267 - val_acc: 0.9908\n",
            "\n",
            "Epoch 00010: ReduceLROnPlateau reducing learning rate to 0.0062500000931322575.\n",
            "6000/6000 [==============================] - 0s 59us/step\n",
            "Val Score:  [0.2267261777718862, 0.9908333333333333]\n",
            "====================================================================================\n",
            "\n",
            "\n",
            "\n",
            "Training on Fold:  4\n",
            "Train on 54000 samples, validate on 6000 samples\n",
            "Epoch 1/10\n",
            "54000/54000 [==============================] - 9s 160us/step - loss: 0.2268 - acc: 0.9873 - val_loss: 0.2267 - val_acc: 0.9900\n",
            "Epoch 2/10\n",
            "54000/54000 [==============================] - 9s 161us/step - loss: 0.2268 - acc: 0.9876 - val_loss: 0.2267 - val_acc: 0.9900\n",
            "Epoch 3/10\n",
            "54000/54000 [==============================] - 9s 163us/step - loss: 0.2268 - acc: 0.9871 - val_loss: 0.2267 - val_acc: 0.9898\n",
            "Epoch 4/10\n",
            "54000/54000 [==============================] - 9s 163us/step - loss: 0.2268 - acc: 0.9873 - val_loss: 0.2267 - val_acc: 0.9898\n",
            "\n",
            "Epoch 00004: ReduceLROnPlateau reducing learning rate to 0.0031250000465661287.\n",
            "Epoch 5/10\n",
            "54000/54000 [==============================] - 9s 162us/step - loss: 0.2268 - acc: 0.9877 - val_loss: 0.2267 - val_acc: 0.9893\n",
            "Epoch 6/10\n",
            "54000/54000 [==============================] - 9s 166us/step - loss: 0.2268 - acc: 0.9881 - val_loss: 0.2267 - val_acc: 0.9900\n",
            "Epoch 7/10\n",
            "54000/54000 [==============================] - 9s 161us/step - loss: 0.2268 - acc: 0.9877 - val_loss: 0.2267 - val_acc: 0.9898\n",
            "\n",
            "Epoch 00007: ReduceLROnPlateau reducing learning rate to 0.0015625000232830644.\n",
            "Epoch 8/10\n",
            "54000/54000 [==============================] - 9s 161us/step - loss: 0.2268 - acc: 0.9872 - val_loss: 0.2267 - val_acc: 0.9898\n",
            "Epoch 9/10\n",
            "54000/54000 [==============================] - 9s 160us/step - loss: 0.2268 - acc: 0.9874 - val_loss: 0.2267 - val_acc: 0.9900\n",
            "Epoch 10/10\n",
            "54000/54000 [==============================] - 9s 162us/step - loss: 0.2268 - acc: 0.9878 - val_loss: 0.2267 - val_acc: 0.9900\n",
            "\n",
            "Epoch 00010: ReduceLROnPlateau reducing learning rate to 0.0007812500116415322.\n",
            "6000/6000 [==============================] - 0s 53us/step\n",
            "Val Score:  [0.22672427217165628, 0.99]\n",
            "====================================================================================\n",
            "\n",
            "\n",
            "\n",
            "Training on Fold:  5\n",
            "Train on 54000 samples, validate on 6000 samples\n",
            "Epoch 1/10\n",
            "54000/54000 [==============================] - 9s 165us/step - loss: 0.2268 - acc: 0.9871 - val_loss: 0.2267 - val_acc: 0.9922\n",
            "Epoch 2/10\n",
            "54000/54000 [==============================] - 9s 167us/step - loss: 0.2268 - acc: 0.9872 - val_loss: 0.2267 - val_acc: 0.9918\n",
            "Epoch 3/10\n",
            "54000/54000 [==============================] - 9s 162us/step - loss: 0.2268 - acc: 0.9877 - val_loss: 0.2267 - val_acc: 0.9922\n",
            "Epoch 4/10\n",
            "54000/54000 [==============================] - 9s 163us/step - loss: 0.2268 - acc: 0.9877 - val_loss: 0.2267 - val_acc: 0.9917\n",
            "\n",
            "Epoch 00004: ReduceLROnPlateau reducing learning rate to 0.0003906250058207661.\n",
            "Epoch 5/10\n",
            "54000/54000 [==============================] - 9s 158us/step - loss: 0.2268 - acc: 0.9871 - val_loss: 0.2267 - val_acc: 0.9917\n",
            "Epoch 6/10\n",
            "54000/54000 [==============================] - 9s 161us/step - loss: 0.2268 - acc: 0.9876 - val_loss: 0.2267 - val_acc: 0.9920\n",
            "Epoch 7/10\n",
            "54000/54000 [==============================] - 9s 159us/step - loss: 0.2268 - acc: 0.9876 - val_loss: 0.2267 - val_acc: 0.9920\n",
            "\n",
            "Epoch 00007: ReduceLROnPlateau reducing learning rate to 0.00019531250291038305.\n",
            "Epoch 8/10\n",
            "54000/54000 [==============================] - 9s 163us/step - loss: 0.2268 - acc: 0.9872 - val_loss: 0.2267 - val_acc: 0.9922\n",
            "Epoch 9/10\n",
            "54000/54000 [==============================] - 9s 163us/step - loss: 0.2268 - acc: 0.9874 - val_loss: 0.2267 - val_acc: 0.9918\n",
            "Epoch 10/10\n",
            "54000/54000 [==============================] - 9s 160us/step - loss: 0.2268 - acc: 0.9873 - val_loss: 0.2267 - val_acc: 0.9915\n",
            "\n",
            "Epoch 00010: ReduceLROnPlateau reducing learning rate to 9.765625145519152e-05.\n",
            "6000/6000 [==============================] - 0s 54us/step\n",
            "Val Score:  [0.2267073106765747, 0.9915]\n",
            "====================================================================================\n",
            "\n",
            "\n"
          ],
          "name": "stdout"
        }
      ]
    },
    {
      "cell_type": "markdown",
      "metadata": {
        "id": "FLREzUAugdPz",
        "colab_type": "text"
      },
      "source": [
        "## Evaluation\n",
        "\n",
        "With a relative simple CNN set up, we managed to achieve 98% accuracy rate with the testing data. "
      ]
    },
    {
      "cell_type": "code",
      "metadata": {
        "id": "Yp4UnptrKbuP",
        "colab_type": "code",
        "outputId": "855190e2-1512-4395-8d0e-a9f754811417",
        "colab": {
          "base_uri": "https://localhost:8080/",
          "height": 68
        }
      },
      "source": [
        "score = NN.CNN_model.evaluate(x_test, y_test)\n",
        "print('Test loss:', score[0])\n",
        "print('Test accuracy:', score[1])"
      ],
      "execution_count": 24,
      "outputs": [
        {
          "output_type": "stream",
          "text": [
            "10000/10000 [==============================] - 1s 54us/step\n",
            "Test loss: 0.2268809983253479\n",
            "Test accuracy: 0.9799\n"
          ],
          "name": "stdout"
        }
      ]
    },
    {
      "cell_type": "code",
      "metadata": {
        "id": "9qn_Jvos0wO1",
        "colab_type": "code",
        "colab": {
          "base_uri": "https://localhost:8080/",
          "height": 517
        },
        "outputId": "c4f5c09a-9246-4370-ee8b-7dc1ac669c6f"
      },
      "source": [
        "predicted_classes = NN.CNN_model.predict(x_test)\n",
        "predicted_classes = np.argmax(np.round(predicted_classes),axis=1)\n",
        "test_labels = np.argmax(y_test, axis=1)\n",
        "\n",
        "plot_predictions(dataset, x_test, predicted_classes, test_labels, False)"
      ],
      "execution_count": 25,
      "outputs": [
        {
          "output_type": "stream",
          "text": [
            "Found 230 incorrect labels\n"
          ],
          "name": "stdout"
        },
        {
          "output_type": "display_data",
          "data": {
            "image/png": "[encoded data removed]",
            "text/plain": [
              "<Figure size 432x288 with 9 Axes>"
            ]
          },
          "metadata": {
            "tags": []
          }
        }
      ]
    },
    {
      "cell_type": "code",
      "metadata": {
        "colab_type": "code",
        "outputId": "384cd60c-f220-41ca-d768-3a1e9ff696e0",
        "id": "2V6M4GD3GWvR",
        "colab": {
          "base_uri": "https://localhost:8080/",
          "height": 517
        }
      },
      "source": [
        "predicted_classes = NN.CNN_model.predict(x_test)\n",
        "predicted_classes = np.argmax(np.round(predicted_classes),axis=1)\n",
        "test_labels = np.argmax(y_test, axis=1)\n",
        "\n",
        "plot_predictions(dataset, x_test, predicted_classes, test_labels, True)"
      ],
      "execution_count": 26,
      "outputs": [
        {
          "output_type": "stream",
          "text": [
            "Found 9770 correct labels\n"
          ],
          "name": "stdout"
        },
        {
          "output_type": "display_data",
          "data": {
            "image/png": "[encoded data removed]",
            "text/plain": [
              "<Figure size 432x288 with 9 Axes>"
            ]
          },
          "metadata": {
            "tags": []
          }
        }
      ]
    },
    {
      "cell_type": "code",
      "metadata": {
        "id": "kgVG5oRMG1gQ",
        "colab_type": "code",
        "colab": {
          "base_uri": "https://localhost:8080/",
          "height": 187
        },
        "outputId": "9b374ce6-23bc-4084-fa18-cae310ba8bcb"
      },
      "source": [
        "confusion_matrix(test_labels, predicted_classes)"
      ],
      "execution_count": 27,
      "outputs": [
        {
          "output_type": "execute_result",
          "data": {
            "text/plain": [
              "array([[ 975,    0,    2,    0,    0,    1,    1,    1,    0,    0],\n",
              "       [   6, 1124,    3,    1,    0,    0,    0,    0,    1,    0],\n",
              "       [  14,    1, 1001,    1,    3,    0,    2,    7,    2,    1],\n",
              "       [   5,    0,    3,  992,    0,    4,    0,    3,    3,    0],\n",
              "       [   9,    0,    3,    0,  961,    0,    0,    0,    2,    7],\n",
              "       [  10,    0,    0,    5,    0,  869,    4,    0,    4,    0],\n",
              "       [  11,    2,    0,    0,    1,    3,  939,    0,    2,    0],\n",
              "       [  15,    2,   10,    2,    0,    0,    0,  998,    0,    1],\n",
              "       [  10,    0,    5,    2,    1,    1,    1,    3,  949,    2],\n",
              "       [  26,    3,    1,    4,    5,    3,    0,    4,    1,  962]])"
            ]
          },
          "metadata": {
            "tags": []
          },
          "execution_count": 27
        }
      ]
    }
  ]
}