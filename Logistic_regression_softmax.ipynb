{
  "nbformat": 4,
  "nbformat_minor": 0,
  "metadata": {
    "colab": {
      "name": "Logistic_regression_softmax",
      "provenance": [],
      "include_colab_link": true
    },
    "kernelspec": {
      "name": "python3",
      "display_name": "Python 3"
    },
    "accelerator": "GPU"
  },
  "cells": [
    {
      "cell_type": "markdown",
      "metadata": {
        "id": "view-in-github",
        "colab_type": "text"
      },
      "source": [
        "<a href=\"https://colab.research.google.com/github/MingSheng92/Image_Classification/blob/master/Logistic_regression_softmax.ipynb\" target=\"_parent\"><img src=\"https://colab.research.google.com/assets/colab-badge.svg\" alt=\"Open In Colab\"/></a>"
      ]
    },
    {
      "cell_type": "code",
      "metadata": {
        "id": "yvnyLIK0kJRR",
        "colab_type": "code",
        "colab": {
          "base_uri": "https://localhost:8080/",
          "height": 139
        },
        "outputId": "7a0c2c10-182b-43ef-8fea-42bd7dcbb9de"
      },
      "source": [
        "!git clone https://github.com/MingSheng92/Image_Classification.git"
      ],
      "execution_count": 1,
      "outputs": [
        {
          "output_type": "stream",
          "text": [
            "Cloning into 'Image_Classification'...\n",
            "remote: Enumerating objects: 69, done.\u001b[K\n",
            "remote: Counting objects: 100% (69/69), done.\u001b[K\n",
            "remote: Compressing objects: 100% (69/69), done.\u001b[K\n",
            "remote: Total 167 (delta 29), reused 0 (delta 0), pack-reused 98\u001b[K\n",
            "Receiving objects: 100% (167/167), 210.54 KiB | 819.00 KiB/s, done.\n",
            "Resolving deltas: 100% (71/71), done.\n"
          ],
          "name": "stdout"
        }
      ]
    },
    {
      "cell_type": "code",
      "metadata": {
        "id": "woP6UeQukQ7W",
        "colab_type": "code",
        "colab": {}
      },
      "source": [
        "%load /content/Image_Classification/scripts/preprocess.py\n",
        "%load /content/Image_Classification/scripts/PCA.py\n",
        "%load /content/Image_Classification/scripts/log_softmax.py\n",
        "%load /content/Image_Classification/scripts/utility.py\n",
        "\n",
        "from Image_Classification.scripts.preprocess import load_data, normalize, one_hot, flatten_image\n",
        "from Image_Classification.scripts.log_softmax import LogisticRegression, get_accuracy\n",
        "from Image_Classification.scripts.PCA import PCA\n",
        "from Image_Classification.scripts.utility import plot_predictions\n",
        "\n",
        "import numpy as np\n",
        "import keras\n",
        "import matplotlib.pyplot as plt\n",
        "\n",
        "from sklearn.metrics import confusion_matrix\n",
        "%matplotlib inline"
      ],
      "execution_count": 0,
      "outputs": []
    },
    {
      "cell_type": "code",
      "metadata": {
        "id": "zdPJIbyCkUU4",
        "colab_type": "code",
        "colab": {
          "base_uri": "https://localhost:8080/",
          "height": 52
        },
        "outputId": "a2b492bd-f06f-48a3-bd7b-f2989ab2c0a4"
      },
      "source": [
        "#dataset='fashion_mnist'\n",
        "dataset='mnist'\n",
        "# load data set \n",
        "x_train, y_train, x_test, y_test = load_data(dataset, reshape=False)\n",
        "\n",
        "# normalize the data set\n",
        "x_train = normalize(x_train)\n",
        "x_test = normalize(x_test)\n",
        "\n",
        "x_train = flatten_image(x_train)\n",
        "x_test = flatten_image(x_test)"
      ],
      "execution_count": 3,
      "outputs": [
        {
          "output_type": "stream",
          "text": [
            "Downloading data from https://s3.amazonaws.com/img-datasets/mnist.npz\n",
            "11493376/11490434 [==============================] - 1s 0us/step\n"
          ],
          "name": "stdout"
        }
      ]
    },
    {
      "cell_type": "code",
      "metadata": {
        "id": "DS8hpBOgpSE2",
        "colab_type": "code",
        "colab": {
          "base_uri": "https://localhost:8080/",
          "height": 849
        },
        "outputId": "b9cf94ac-c6a0-4821-a2bb-83b7b04f68f1"
      },
      "source": [
        "lg = LogisticRegression(x_train, y_train)\n",
        "lg.cross_fold()"
      ],
      "execution_count": 4,
      "outputs": [
        {
          "output_type": "stream",
          "text": [
            "Fold : 1\n",
            "Epoch 1, val Loss 8.5242, val Acc 0.1687\n",
            "Epoch 10, val Loss 2.4678, val Acc 0.5613\n",
            "Epoch 20, val Loss 1.5608, val Acc 0.6963\n",
            "Epoch 30, val Loss 1.2367, val Acc 0.7468\n",
            "Epoch 40, val Loss 1.0671, val Acc 0.7770\n",
            "Epoch 50, val Loss 0.9605, val Acc 0.7965\n",
            "--------------------------------------------------------\n",
            "Fold : 2\n",
            "Epoch 1, val Loss 0.9669, val Acc 0.7880\n",
            "Epoch 10, val Loss 0.9056, val Acc 0.8022\n",
            "Epoch 20, val Loss 0.8535, val Acc 0.8128\n",
            "Epoch 30, val Loss 0.8123, val Acc 0.8210\n",
            "Epoch 40, val Loss 0.7788, val Acc 0.8275\n",
            "reached tolerance level.\n",
            "--------------------------------------------------------\n",
            "Fold : 3\n",
            "Epoch 1, val Loss 0.8777, val Acc 0.8098\n",
            "reached tolerance level.\n",
            "--------------------------------------------------------\n",
            "Fold : 4\n",
            "Epoch 1, val Loss 0.7415, val Acc 0.8383\n",
            "reached tolerance level.\n",
            "--------------------------------------------------------\n",
            "Fold : 5\n",
            "Epoch 1, val Loss 0.7963, val Acc 0.8270\n",
            "reached tolerance level.\n",
            "--------------------------------------------------------\n",
            "Fold : 6\n",
            "Epoch 1, val Loss 0.8023, val Acc 0.8227\n",
            "reached tolerance level.\n",
            "--------------------------------------------------------\n",
            "Fold : 7\n",
            "Epoch 1, val Loss 0.8260, val Acc 0.8180\n",
            "reached tolerance level.\n",
            "--------------------------------------------------------\n",
            "Fold : 8\n",
            "Epoch 1, val Loss 0.8191, val Acc 0.8242\n",
            "reached tolerance level.\n",
            "--------------------------------------------------------\n",
            "Fold : 9\n",
            "Epoch 1, val Loss 0.7935, val Acc 0.8287\n",
            "reached tolerance level.\n",
            "--------------------------------------------------------\n",
            "Fold : 10\n",
            "Epoch 1, val Loss 0.6173, val Acc 0.8603\n",
            "reached tolerance level.\n",
            "--------------------------------------------------------\n"
          ],
          "name": "stdout"
        }
      ]
    },
    {
      "cell_type": "code",
      "metadata": {
        "id": "dzO7HyJfvfvM",
        "colab_type": "code",
        "colab": {}
      },
      "source": [
        "y_pred = lg.predict(x_test)"
      ],
      "execution_count": 0,
      "outputs": []
    },
    {
      "cell_type": "code",
      "metadata": {
        "id": "zO8yHiWeRswc",
        "colab_type": "code",
        "colab": {
          "base_uri": "https://localhost:8080/",
          "height": 35
        },
        "outputId": "26bf34f1-6403-4e20-833c-464720286595"
      },
      "source": [
        "acc = get_accuracy(y_pred, y_test)\n",
        "print(acc*100.)"
      ],
      "execution_count": 8,
      "outputs": [
        {
          "output_type": "stream",
          "text": [
            "83.7\n"
          ],
          "name": "stdout"
        }
      ]
    },
    {
      "cell_type": "code",
      "metadata": {
        "id": "de8Y-dIoSs6T",
        "colab_type": "code",
        "colab": {
          "base_uri": "https://localhost:8080/",
          "height": 176
        },
        "outputId": "f626e33e-7062-4fde-b82e-84573b1e98c8"
      },
      "source": [
        "dataset='fashion_mnist'\n",
        "\n",
        "# load data set \n",
        "x_train, y_train, x_test, y_test = load_data(dataset, reshape=False)\n",
        "\n",
        "# normalize the data set\n",
        "x_train = normalize(x_train)\n",
        "x_test = normalize(x_test)\n",
        "\n",
        "x_train = flatten_image(x_train)\n",
        "x_test = flatten_image(x_test)"
      ],
      "execution_count": 9,
      "outputs": [
        {
          "output_type": "stream",
          "text": [
            "Downloading data from http://fashion-mnist.s3-website.eu-central-1.amazonaws.com/train-labels-idx1-ubyte.gz\n",
            "32768/29515 [=================================] - 0s 1us/step\n",
            "Downloading data from http://fashion-mnist.s3-website.eu-central-1.amazonaws.com/train-images-idx3-ubyte.gz\n",
            "26427392/26421880 [==============================] - 0s 0us/step\n",
            "Downloading data from http://fashion-mnist.s3-website.eu-central-1.amazonaws.com/t10k-labels-idx1-ubyte.gz\n",
            "8192/5148 [===============================================] - 0s 0us/step\n",
            "Downloading data from http://fashion-mnist.s3-website.eu-central-1.amazonaws.com/t10k-images-idx3-ubyte.gz\n",
            "4423680/4422102 [==============================] - 0s 0us/step\n"
          ],
          "name": "stdout"
        }
      ]
    },
    {
      "cell_type": "code",
      "metadata": {
        "id": "t1AnZW3fS2yR",
        "colab_type": "code",
        "colab": {
          "base_uri": "https://localhost:8080/",
          "height": 867
        },
        "outputId": "9d6fbf25-6ba4-4787-dcb5-20334b79bd58"
      },
      "source": [
        "lg = LogisticRegression(x_train, y_train)\n",
        "lg.cross_fold()"
      ],
      "execution_count": 10,
      "outputs": [
        {
          "output_type": "stream",
          "text": [
            "Fold : 1\n",
            "Epoch 1, val Loss 6.7982, val Acc 0.2348\n",
            "Epoch 10, val Loss 2.3147, val Acc 0.5755\n",
            "Epoch 20, val Loss 1.8174, val Acc 0.6418\n",
            "Epoch 30, val Loss 1.5890, val Acc 0.6785\n",
            "Epoch 40, val Loss 1.4463, val Acc 0.6977\n",
            "Epoch 50, val Loss 1.3455, val Acc 0.7157\n",
            "--------------------------------------------------------\n",
            "Fold : 2\n",
            "Epoch 1, val Loss 1.3828, val Acc 0.7107\n",
            "Epoch 10, val Loss 1.3131, val Acc 0.7170\n",
            "Epoch 20, val Loss 1.2506, val Acc 0.7242\n",
            "Epoch 30, val Loss 1.1995, val Acc 0.7330\n",
            "Epoch 40, val Loss 1.1574, val Acc 0.7415\n",
            "Epoch 50, val Loss 1.1202, val Acc 0.7463\n",
            "reached tolerance level.\n",
            "--------------------------------------------------------\n",
            "Fold : 3\n",
            "Epoch 1, val Loss 1.0869, val Acc 0.7502\n",
            "reached tolerance level.\n",
            "--------------------------------------------------------\n",
            "Fold : 4\n",
            "Epoch 1, val Loss 1.0980, val Acc 0.7457\n",
            "reached tolerance level.\n",
            "--------------------------------------------------------\n",
            "Fold : 5\n",
            "Epoch 1, val Loss 1.0841, val Acc 0.7505\n",
            "reached tolerance level.\n",
            "--------------------------------------------------------\n",
            "Fold : 6\n",
            "Epoch 1, val Loss 1.0479, val Acc 0.7567\n",
            "reached tolerance level.\n",
            "--------------------------------------------------------\n",
            "Fold : 7\n",
            "Epoch 1, val Loss 1.0839, val Acc 0.7533\n",
            "reached tolerance level.\n",
            "--------------------------------------------------------\n",
            "Fold : 8\n",
            "Epoch 1, val Loss 1.0482, val Acc 0.7537\n",
            "reached tolerance level.\n",
            "--------------------------------------------------------\n",
            "Fold : 9\n",
            "Epoch 1, val Loss 1.0790, val Acc 0.7523\n",
            "reached tolerance level.\n",
            "--------------------------------------------------------\n",
            "Fold : 10\n",
            "Epoch 1, val Loss 1.0359, val Acc 0.7458\n",
            "reached tolerance level.\n",
            "--------------------------------------------------------\n"
          ],
          "name": "stdout"
        }
      ]
    },
    {
      "cell_type": "code",
      "metadata": {
        "id": "leMCEHzxTTZ4",
        "colab_type": "code",
        "colab": {
          "base_uri": "https://localhost:8080/",
          "height": 35
        },
        "outputId": "2bd9f394-00e4-4454-cb9a-bdc32e923ef8"
      },
      "source": [
        "y_pred = lg.predict(x_test)\n",
        "acc = get_accuracy(y_pred, y_test)\n",
        "print(acc*100.)"
      ],
      "execution_count": 11,
      "outputs": [
        {
          "output_type": "stream",
          "text": [
            "73.83\n"
          ],
          "name": "stdout"
        }
      ]
    }
  ]
}